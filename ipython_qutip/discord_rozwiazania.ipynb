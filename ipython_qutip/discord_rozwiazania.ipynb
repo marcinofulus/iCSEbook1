{
 "metadata": {
  "name": ""
 },
 "nbformat": 3,
 "nbformat_minor": 0,
 "worksheets": [
  {
   "cells": [
    {
     "cell_type": "markdown",
     "metadata": {},
     "source": [
      "Wskaz\u00f3wki do zada\u0144\n",
      "==================\n",
      "\n",
      "__Uwaga__ Nie korzystaj z poni\u017cszych wskaz\u00f3wek w sytuacjach innych ni\u017c kryzysowe. __Pracuj samodzielnie i ciesz si\u0119 sukcesem__  "
     ]
    },
    {
     "cell_type": "code",
     "collapsed": false,
     "input": [
      "from qutip import *\n",
      "from pylab import *\n",
      "%pylab inline"
     ],
     "language": "python",
     "metadata": {},
     "outputs": [
      {
       "output_type": "stream",
       "stream": "stdout",
       "text": [
        "Populating the interactive namespace from numpy and matplotlib\n"
       ]
      },
      {
       "output_type": "stream",
       "stream": "stderr",
       "text": [
        "WARNING: pylab import has clobbered these variables: ['power', 'info', 'linalg', 'draw_if_interactive', 'random', 'fft', 'load', 'save']\n",
        "`%pylab --no-import-all` prevents importing * from pylab and numpy\n"
       ]
      }
     ],
     "prompt_number": 3
    },
    {
     "cell_type": "markdown",
     "metadata": {},
     "source": [
      "__2 Discord__\n",
      "-------------\n",
      "\n",
      "Ad 1 Rzowi\u0105zuj\u0105c to zadanie wykorzystaj stany Bella otrzymane w poprzednim przyk\u0142adzie powy\u017cej. Powt\u00f3rz obliczenia dla \n"
     ]
    },
    {
     "cell_type": "code",
     "collapsed": false,
     "input": [
      "B0=(tensor(basis(2,0),basis(2,1))+tensor(basis(2,1),basis(2,0))).unit()"
     ],
     "language": "python",
     "metadata": {},
     "outputs": [],
     "prompt_number": 24
    },
    {
     "cell_type": "markdown",
     "metadata": {},
     "source": [
      "Ad 2 Wykre\u015bl wyniki dla pozosta\u0142ych czterech stan\u00f3w Bella. Umie\u015b\u0107 je na jednym wykresie. Krzywe b\u0119d\u0105 nieod\u00f3\u017cnialne "
     ]
    },
    {
     "cell_type": "markdown",
     "metadata": {},
     "source": [
      "Ad 3 Zastosuj"
     ]
    },
    {
     "cell_type": "code",
     "collapsed": false,
     "input": [
      "Hint=tensor(sigmaz(),sigmaz())"
     ],
     "language": "python",
     "metadata": {},
     "outputs": [],
     "prompt_number": 27
    },
    {
     "cell_type": "markdown",
     "metadata": {},
     "source": [
      "a nast\u0119pnie powt\u00f3rz obliczenia z materia\u0142\u00f3w dydaktycznych"
     ]
    },
    {
     "cell_type": "code",
     "collapsed": false,
     "input": [],
     "language": "python",
     "metadata": {},
     "outputs": []
    }
   ],
   "metadata": {}
  }
 ]
}