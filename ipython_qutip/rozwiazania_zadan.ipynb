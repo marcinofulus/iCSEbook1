{
 "metadata": {
  "name": ""
 },
 "nbformat": 3,
 "nbformat_minor": 0,
 "worksheets": [
  {
   "cells": [
    {
     "cell_type": "markdown",
     "metadata": {},
     "source": [
      "Wskaz\u00f3wki do zada\u0144\n",
      "==================\n",
      "\n",
      "__Uwaga__ Nie korzystaj z poni\u017cszych wskaz\u00f3wek w sytuacjach innych ni\u017c kryzysowe. __Pracuj samodzielnie i ciesz si\u0119 sukcesem__  "
     ]
    },
    {
     "cell_type": "code",
     "collapsed": false,
     "input": [
      "from qutip import *\n",
      "from pylab import *\n",
      "%pylab inline"
     ],
     "language": "python",
     "metadata": {},
     "outputs": [
      {
       "output_type": "stream",
       "stream": "stdout",
       "text": [
        "Populating the interactive namespace from numpy and matplotlib\n"
       ]
      },
      {
       "output_type": "stream",
       "stream": "stderr",
       "text": [
        "WARNING: pylab import has clobbered these variables: ['power', 'info', 'linalg', 'draw_if_interactive', 'random', 'fft', 'load', 'save']\n",
        "`%pylab --no-import-all` prevents importing * from pylab and numpy\n"
       ]
      }
     ],
     "prompt_number": 3
    },
    {
     "cell_type": "markdown",
     "metadata": {},
     "source": [
      "__1 Qubit w otoczeniu termicznym__\n",
      "-------------------------------------\n",
      "\n",
      "Ad 1. Przeprowad\u017a obliczenia dla warunku pocz\u0105tkowego \n",
      "$|\\psi\\rangle=a|0\\rangle+b|1\\rangle$\n",
      "Pami\u0119taj o normalizacji!"
     ]
    },
    {
     "cell_type": "code",
     "collapsed": false,
     "input": [
      "up=basis(2,0)\n",
      "dn=basis(2,1)\n",
      "#\n",
      "a=1.0\n",
      "b=2.0\n",
      "vv=(a*up+b*dn).unit()"
     ],
     "language": "python",
     "metadata": {},
     "outputs": [],
     "prompt_number": 5
    },
    {
     "cell_type": "markdown",
     "metadata": {},
     "source": [
      "Wykre\u015bl uzyskane wyniki w analogiczny spos\u00f3b. Zwr\u00f3\u0107 szczeg\u00f3ln\u0105 uwag\u0119 na przypadki skrajne $a=0$ albo $b=0$. "
     ]
    },
    {
     "cell_type": "markdown",
     "metadata": {},
     "source": [
      "Ad 2. Przypadek $A=0$ jest bardzo szczeg\u00f3lny. Opisuje sytuacj\u0119, gdy qubit nie wymienia energii z otoczeniem. Zwr\u00f3\u0107 uwag\u0119, \u017ce w tym przypadku produkcja entropii jest najmniejsza. "
     ]
    },
    {
     "cell_type": "markdown",
     "metadata": {},
     "source": [
      "Ad 3. Stany Bella to wektory:\n",
      "\n",
      "$|B0\\rangle=\\frac{1}{\\sqrt{2}}(|00\\rangle+|11\\rangle)$\n",
      "\n",
      "$|B1\\rangle=\\frac{1}{\\sqrt{2}}(|00\\rangle-|11\\rangle)$\n",
      "\n",
      "$|B2\\rangle=\\frac{1}{\\sqrt{2}}(|01\\rangle+|10\\rangle)$\n",
      "\n",
      "$|B3\\rangle=\\frac{1}{\\sqrt{2}}(|01\\rangle-|10\\rangle)$\n",
      "\n",
      "Poni\u017cej zapisano dwa spo\u015br\u00f3d powy\u017cszych. Kt\u00f3re? "
     ]
    },
    {
     "cell_type": "code",
     "collapsed": false,
     "input": [
      "rpp=up*up.dag()\n",
      "rpm=up*dn.dag()\n",
      "rmp=rpm.trans()\n",
      "rmm=dn*dn.dag()\n",
      "#\n",
      "BB0=(tensor(rpp,rmm)+tensor(rpm,rmp)+tensor(rmp,rpm)+tensor(rmm,rpp))/2.0\n",
      "BB1=(tensor(rpp,rpp)+tensor(rpm,rpm)+tensor(rmp,rmp)+tensor(rmm,rmm))/2.0"
     ],
     "language": "python",
     "metadata": {},
     "outputs": [],
     "prompt_number": 23
    },
    {
     "cell_type": "markdown",
     "metadata": {},
     "source": [
      "__2 Discord__\n",
      "-------------\n",
      "\n",
      "Ad 1 Rzowi\u0105zuj\u0105c to zadanie wykorzystaj stany Bella otrzymane w poprzednim przyk\u0142adzie powy\u017cej. Powt\u00f3rz obliczenia dla \n"
     ]
    },
    {
     "cell_type": "code",
     "collapsed": false,
     "input": [
      "B0=(tensor(basis(2,0),basis(2,1))+tensor(basis(2,1),basis(2,0))).unit()"
     ],
     "language": "python",
     "metadata": {},
     "outputs": [],
     "prompt_number": 24
    },
    {
     "cell_type": "markdown",
     "metadata": {},
     "source": [
      "Ad 2 Wykre\u015bl wyniki dla pozosta\u0142ych czterech stan\u00f3w Bella. Umie\u015b\u0107 je na jednym wykresie. Krzywe b\u0119d\u0105 nieod\u00f3\u017cnialne "
     ]
    },
    {
     "cell_type": "markdown",
     "metadata": {},
     "source": [
      "Ad 3 Zastosuj"
     ]
    },
    {
     "cell_type": "code",
     "collapsed": false,
     "input": [
      "Hint=tensor(sigmaz(),sigmaz())"
     ],
     "language": "python",
     "metadata": {},
     "outputs": [],
     "prompt_number": 27
    },
    {
     "cell_type": "markdown",
     "metadata": {},
     "source": [
      "a nast\u0119pnie powt\u00f3rz obliczenia z materia\u0142\u00f3w dydaktycznych"
     ]
    },
    {
     "cell_type": "markdown",
     "metadata": {},
     "source": [
      "__3 Dzielniki wi\u0105zki i interferometry__\n",
      "-----------------------------------------\n",
      "\n",
      "Ad 1 $\\delta_r=0$, $\\delta_t=-\\pi/2$ a $\\kappa=\\pi/2$, __sprawd\u017a :)__\n",
      "\n",
      "Ad 2 $\\delta_r=\\pi/2$, $\\delta_t=\\pi/2$ a $\\kappa=-\\pi/2$, __te\u017c sprawd\u017a :)__"
     ]
    },
    {
     "cell_type": "markdown",
     "metadata": {},
     "source": [
      "__4 Stany koherentne Gazeau-Klaudera__\n",
      "---------------------------------------"
     ]
    },
    {
     "cell_type": "markdown",
     "metadata": {},
     "source": [
      "Ad 1 Przeprowad\u017a powt\u00f3rne obliczenia dla r\u00f3\u017cnych warto\u015bci parametru $\\mu$, za\u015b uzyskane wyniki umie\u015b\u0107 na jednym wykresie"
     ]
    },
    {
     "cell_type": "markdown",
     "metadata": {},
     "source": [
      "Ad 2 Zastosuj hamiltonian"
     ]
    },
    {
     "cell_type": "markdown",
     "metadata": {},
     "source": [
      "X=create(N)+destroy(N)\n",
      "H=num(N)-mu*((1j*X).expm()+(-1j*X).expm())/2"
     ]
    },
    {
     "cell_type": "markdown",
     "metadata": {},
     "source": [
      "__5 Kana\u0142y kwantowe__\n",
      "---------------------"
     ]
    },
    {
     "cell_type": "markdown",
     "metadata": {},
     "source": [
      "Ad 1 Powt\u00f3rz obliczenia wykonane w materia\u0142ach dla funkcji damp() oraz flip() u\u017cytych w miejsce deopl() "
     ]
    },
    {
     "cell_type": "markdown",
     "metadata": {},
     "source": [
      "Ad 2 Wykorzystaj fynkcj\u0119 concurrence() do obliczenia splatania. Wykorzystaj funkcje depol() w dzia\u0142aniu na wynbrany stan Bella dla uzyskania zdpolaryzowanego stanu Bella "
     ]
    },
    {
     "cell_type": "markdown",
     "metadata": {},
     "source": [
      "__ 6 Koty Schroedingera__\n",
      "-------------------------\n",
      "\n",
      "Ad 1 & 2: rozwiazanie znajdziesz w podr\u0119czniku Gerry & Knight \"Wst\u0119p do optyki kwantowej\". Lepiej tam ni\u017c w Wikipedii :) "
     ]
    },
    {
     "cell_type": "markdown",
     "metadata": {},
     "source": [
      "__7 R\u00f3wnania fundamentalne w optyce kwantowej __\n",
      "-------------------------------------------------\n",
      "\n",
      "Ad 1 Powt\u00f3rz obliczenia z materia\u0142\u00f3w dydaktycznych. Zamiast obserwabli \n",
      "\n",
      "outlist[i1]=(rho*num(N)).tr()\n",
      "\n",
      "u\u017cyj\n",
      "\n",
      "outlist[i1]=(rho*sigmax()).tr()"
     ]
    },
    {
     "cell_type": "markdown",
     "metadata": {},
     "source": [
      "Ad 2 U\u017cyj D=sqrt(0.1)*num(N) "
     ]
    },
    {
     "cell_type": "markdown",
     "metadata": {},
     "source": [
      "__8 Splatanie stan\u00f3w mieszanych__\n",
      "----------------------------------"
     ]
    },
    {
     "cell_type": "markdown",
     "metadata": {},
     "source": [
      "Ad 1 $p=2/3$\n",
      "\n",
      "Ad 2 uzyj funkcji concurrence() w miejsce negat()"
     ]
    },
    {
     "cell_type": "markdown",
     "metadata": {},
     "source": [
      "__9 Dysypatywne oscylacje neutrin__\n",
      "-----------------------------------\n",
      "\n",
      "Ad 1 & 2 Wykonaj ponowne obliczenia przy uzyciu narz\u0119dzi z materia\u0142\u00f3w dydaktycznych. Wykre\u015bl wyniki na jednym wykresie "
     ]
    },
    {
     "cell_type": "markdown",
     "metadata": {},
     "source": [
      "__10 Kwantowe oscylatory nieliniowe__\n",
      "---------------------------------------\n",
      "\n",
      "Ad 1 Wykorzystaj funcj\u0119 tracedist()\n",
      "\n",
      "Ad 3 Skorzystaj ze wskaz\u00f3wek do rozwi\u0105za\u0144 zadania o stanach koherentnych Gazeau-Klaudera"
     ]
    },
    {
     "cell_type": "markdown",
     "metadata": {},
     "source": [
      "__11 Teleportacja w obecno\u015bci dekohrencji__\n",
      "-------------------------------------------"
     ]
    },
    {
     "cell_type": "markdown",
     "metadata": {},
     "source": [
      "Ad 1 &2  Skorzystaj ze wskaz\u00f3wek do zada\u0144 o qubicie w otoczeniu termicznym:\n",
      "\n",
      "Dla stanu \n",
      "R uzyj w obliczeniach\n",
      "\n",
      "BB1=(tensor(rpp,rpp)+tensor(rpm,rpm)+tensor(rmp,rmp)+tensor(rmm,rmm))/2.0\n",
      "\n"
     ]
    },
    {
     "cell_type": "code",
     "collapsed": false,
     "input": [],
     "language": "python",
     "metadata": {},
     "outputs": []
    }
   ],
   "metadata": {}
  }
 ]
}