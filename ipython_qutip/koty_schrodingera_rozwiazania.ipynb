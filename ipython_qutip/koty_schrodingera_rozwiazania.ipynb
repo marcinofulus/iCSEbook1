{
 "metadata": {
  "name": ""
 },
 "nbformat": 3,
 "nbformat_minor": 0,
 "worksheets": [
  {
   "cells": [
    {
     "cell_type": "markdown",
     "metadata": {},
     "source": [
      "Wskaz\u00f3wki do zada\u0144\n",
      "==================\n",
      "\n",
      "__Uwaga__ Nie korzystaj z poni\u017cszych wskaz\u00f3wek w sytuacjach innych ni\u017c kryzysowe. __Pracuj samodzielnie i ciesz si\u0119 sukcesem__  "
     ]
    },
    {
     "cell_type": "code",
     "collapsed": false,
     "input": [
      "from qutip import *\n",
      "from pylab import *\n",
      "%pylab inline"
     ],
     "language": "python",
     "metadata": {},
     "outputs": [
      {
       "output_type": "stream",
       "stream": "stdout",
       "text": [
        "Populating the interactive namespace from numpy and matplotlib\n"
       ]
      },
      {
       "output_type": "stream",
       "stream": "stderr",
       "text": [
        "WARNING: pylab import has clobbered these variables: ['power', 'info', 'linalg', 'draw_if_interactive', 'random', 'fft', 'load', 'save']\n",
        "`%pylab --no-import-all` prevents importing * from pylab and numpy\n"
       ]
      }
     ],
     "prompt_number": 3
    },
    {
     "cell_type": "markdown",
     "metadata": {},
     "source": [
      "__ 6 Koty Schroedingera__\n",
      "-------------------------\n",
      "\n",
      "Ad 1 & 2: rozwiazanie znajdziesz w podr\u0119czniku Gerry & Knight \"Wst\u0119p do optyki kwantowej\". Lepiej tam ni\u017c w Wikipedii :) "
     ]
    },
    {
     "cell_type": "code",
     "collapsed": false,
     "input": [],
     "language": "python",
     "metadata": {},
     "outputs": []
    }
   ],
   "metadata": {}
  }
 ]
}