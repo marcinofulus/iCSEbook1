{
 "metadata": {
  "name": ""
 },
 "nbformat": 3,
 "nbformat_minor": 0,
 "worksheets": [
  {
   "cells": [
    {
     "cell_type": "markdown",
     "metadata": {},
     "source": [
      "R\u00f3wnania fundamentalne w optyce kwantowej\n",
      "=========================================\n",
      "\n",
      "1. R\u00f3wnianie Lindblada: opis dekoherencji\n",
      "2. R\u00f3wnanie Lindblada dla spinu: dekoherencja uk\u0142ad\u00f3w atomowych\n",
      "3. Wizualizacja wybranych charakterystyk dymaniki dysypatywnej\n",
      "4. Optyczne r\u00f3wnianie fundamentlane\n",
      "5. Wizualizacja charaktertyk dynamiki\n",
      "6. Dynamika splatania w obecno\u015bci dekoherencji \n",
      "7. Zadania"
     ]
    },
    {
     "cell_type": "markdown",
     "metadata": {},
     "source": [
      "Opis uk\u0142ad\u00f3w kwantowych traktowanych jako zamkni\u0119te mo\u017cna zawsze uzyska\u0107 w\u0142\u0105czaj\u0105c do badanego uk\u0142adu  jego otoczenie. Je\u015bli otoczenie bedzie dostatecznie du\u017ce mo\u017cna obliczy\u0107 ewolucj\u0119 kwantow\u0105 rozwi\u0105zuj\u0105c odpowiednie r\u00f3wanie von Neumanna (Schroedingera) dla stan\u00f3w (stan\u00f3w czystych) uk\u0142adu:  \n",
      "\n",
      "$\\dot \\rho_{\\rm tot}(t) = -\\frac{i}{\\hbar}[H_{\\rm tot}, \\rho_{\\rm tot}(t)],$\n",
      "\n",
      "Jednak w wi\u0119kszo\u015bci przypadk\u00f3w podzia\u0142 na uk\u0142ad i jedo otoczenie jest uzasadniony z praktycznego punktu widzenia:\n",
      "\n",
      "$ H_{\\rm tot} = H_{\\rm sys} + H_{\\rm env} + H_{\\rm int},$\n",
      "\n",
      "gdzie w zasadzie interesuj\u0105ca jest dynamika cz\u0119\u015bci \"sys\". Rozwi\u0105zanie r\u00f3wnania wyj\u0105ciowego i wykonanie \u015bladu cz\u0119\u015bciowego ze wzgl\u0119du na stopnie swobody otoczenia jest w og\u00f3lno\u015bci niewykonalne. Wyj\u0105tkiem jest kilka szczeg\u00f3lnych przypadk\u00f3w, w kt\u00f3rych rozwi\u0105zywalno\u015bc problemu wynika z istanienia praw zachowania (symetrii).  \n",
      "\n",
      "Na szcz\u0119\u015bcie dzi\u0119ki teorii kwantowych uk\u0142ad\u00f3w otwartych mo\u017cliwe jest wyprowadzenie efektywnych r\u00f3wna\u0144 opisujacych dynamik\u0119 poduk\u0142\u0105du \"sys\" uwzgl\u0119dniaj\u0105cych dekoherencj\u0119. Tutaj ograniczymy si\u0119 do najbardzieju podstawowego: fenomenologicznego r\u00f3wnania fundamentalnego typu Lindblada. R\u00f3wnianie to opisuje przybli\u017cenie markowowskie dynamiki uk\u0142adu i jego posta\u0107 mo\u017ce zosta\u0107 uzasadniona w drodze roachunku perturbacyjnego ze wzgl\u0119du na $H_{\\rm int}$:\n",
      "\n",
      "$ \\dot\\rho(t)=-\\frac{i}{\\hbar}[H,\\rho(t)]+\\sum_n \\frac{1}{2} \\left[2 C_n \\rho(t) C_n^{+} - \\rho(t) C_n^{+} C_n - C_n^{+} C_n \\rho(t)\\right]$ ($\\bullet$)\n",
      "\n",
      "Operatory\n",
      "\n",
      "$C_n = \\sqrt{\\gamma_n} A_n$\n",
      "\n",
      "s\u0142u\u017c\u0105 nam do fenomenologicznego opisu dekoherencji."
     ]
    },
    {
     "cell_type": "markdown",
     "metadata": {},
     "source": [
      "Przyk\u0142ady\n",
      "---------\n",
      "\n",
      "__A__. W przypadku, gdy operatory $H$ oraz $C_n$ s\u0105 wyra\u017cone macierzami spinowymi r\u00f3wnanie ($\\bullet$) opisiuje dynamik\u0119 (relaksacj\u0119) spinu (qubitu) lub mo\u017ce by\u0107 wykorzystane w opisie dekoherencji atom\u00f3w.\n",
      "\n",
      "__B__. Je\u015bli $H,C_n$ wyra\u017caj\u0105 sie przez operatory $a,a^\\dagger$ reprezentujace algebr\u0119 Heisenberga-Weyla $[a,a^\\dagger]=1$ to r\u00f3wnanie ($\\bullet$) opisuje r\u00f3\u017cnorakie problemy optyki kwantowej\n",
      "\n",
      "__C__. W przypadku, gdy w r\u00f3wnianiu ($\\bullet$) wystepuj\u0105 oba typy operator\u00f3w mo\u017cna je wykorzysta\u0107 do _nierelatywistecznego_ opisu oddzia\u0142ywania \u015bwiat\u0142a z materi\u0105.   "
     ]
    },
    {
     "cell_type": "code",
     "collapsed": false,
     "input": [
      "from qutip import *\n",
      "from pylab import *"
     ],
     "language": "python",
     "metadata": {},
     "outputs": [],
     "prompt_number": 1
    },
    {
     "cell_type": "markdown",
     "metadata": {},
     "source": [
      "Okre\u015blmy posta\u0107 operator\u00f3w:"
     ]
    },
    {
     "cell_type": "code",
     "collapsed": false,
     "input": [
      "H=sigmaz()"
     ],
     "language": "python",
     "metadata": {},
     "outputs": [],
     "prompt_number": 2
    },
    {
     "cell_type": "markdown",
     "metadata": {},
     "source": [
      "oraz dysyspatora $D=C_1$"
     ]
    },
    {
     "cell_type": "code",
     "collapsed": false,
     "input": [
      "D=sqrt(0.1)*sigmax()"
     ],
     "language": "python",
     "metadata": {},
     "outputs": [],
     "prompt_number": 3
    },
    {
     "cell_type": "markdown",
     "metadata": {},
     "source": [
      "ustalmy warunek pocz\u0105tkowy:"
     ]
    },
    {
     "cell_type": "code",
     "collapsed": false,
     "input": [
      "psi00=(basis(2,0)+basis(2,1)).unit()\n",
      "psi0=ket2dm(psi00)"
     ],
     "language": "python",
     "metadata": {},
     "outputs": [],
     "prompt_number": 4
    },
    {
     "cell_type": "markdown",
     "metadata": {},
     "source": [
      "i obliczmy dynamik\u0119 uk\u0142adu"
     ]
    },
    {
     "cell_type": "code",
     "collapsed": false,
     "input": [
      "tlist=linspace(0,5.0,10.0)\n",
      "outlist=zeros(len(tlist))"
     ],
     "language": "python",
     "metadata": {},
     "outputs": [],
     "prompt_number": 5
    },
    {
     "cell_type": "code",
     "collapsed": false,
     "input": [
      "qq=mesolve(H, psi0, tlist, [D], [])"
     ],
     "language": "python",
     "metadata": {},
     "outputs": [],
     "prompt_number": 6
    },
    {
     "cell_type": "markdown",
     "metadata": {},
     "source": [
      "uzyskane rozwi\u0105zanie wykorzystamy do obliczenia ewolucji entropii:"
     ]
    },
    {
     "cell_type": "code",
     "collapsed": false,
     "input": [
      "for i1 in range(len(tlist)):\n",
      "    rho=qq.states[i1]\n",
      "    outlist[i1]=entropy_vn(rho)"
     ],
     "language": "python",
     "metadata": {},
     "outputs": [],
     "prompt_number": 7
    },
    {
     "cell_type": "markdown",
     "metadata": {},
     "source": [
      "kt\u00f3rej wizualizacj\u0119 przedstawiamy poni\u017cej:"
     ]
    },
    {
     "cell_type": "code",
     "collapsed": false,
     "input": [
      "plot(tlist,outlist,'-',label='', linewidth=4)\n",
      "xlabel('t',fontsize=20)\n",
      "ylabel('SvN',fontsize=20)\n",
      "show()"
     ],
     "language": "python",
     "metadata": {},
     "outputs": [
      {
       "metadata": {},
       "output_type": "display_data",
       "png": "[encoded data removed]",
       "text": [
        "<matplotlib.figure.Figure at 0xaf5306c>"
       ]
      }
     ],
     "prompt_number": 8
    },
    {
     "cell_type": "markdown",
     "metadata": {},
     "source": [
      "Analogiczniie przeanalizujemy dynamik\u0119 uk\u0142adu optycznego, zak\u0142adaj\u0105c obci\u0119cie przestrzeni stan\u00f3\u0142 do $N=10$:"
     ]
    },
    {
     "cell_type": "code",
     "collapsed": false,
     "input": [
      "N=10"
     ],
     "language": "python",
     "metadata": {},
     "outputs": [],
     "prompt_number": 9
    },
    {
     "cell_type": "code",
     "collapsed": false,
     "input": [
      "H=create(N)*destroy(N)"
     ],
     "language": "python",
     "metadata": {},
     "outputs": [],
     "prompt_number": 10
    },
    {
     "cell_type": "code",
     "collapsed": false,
     "input": [
      "D=sqrt(0.1)*destroy(N)"
     ],
     "language": "python",
     "metadata": {},
     "outputs": [],
     "prompt_number": 11
    },
    {
     "cell_type": "markdown",
     "metadata": {},
     "source": [
      "Zak\u0142adamy, \u017ce w  chwili pocz\u0105tkowej pole jest w stanie $|N=2\\rangle$:"
     ]
    },
    {
     "cell_type": "code",
     "collapsed": false,
     "input": [
      "psi0=fock_dm(N,2)"
     ],
     "language": "python",
     "metadata": {},
     "outputs": [],
     "prompt_number": 12
    },
    {
     "cell_type": "code",
     "collapsed": false,
     "input": [
      "tlist=linspace(0,5.0,10.0)\n",
      "outlist=zeros(len(tlist))"
     ],
     "language": "python",
     "metadata": {},
     "outputs": [],
     "prompt_number": 13
    },
    {
     "cell_type": "code",
     "collapsed": false,
     "input": [
      "qq=mesolve(H, psi0, tlist, [D], [])"
     ],
     "language": "python",
     "metadata": {},
     "outputs": [],
     "prompt_number": 14
    },
    {
     "cell_type": "markdown",
     "metadata": {},
     "source": [
      "tym razem obliczymy \u015bredni\u0105 liczb\u0119 foton\u00f3w w obecno\u015bci dekoherecji:"
     ]
    },
    {
     "cell_type": "code",
     "collapsed": false,
     "input": [
      "for i1 in range(len(tlist)):\n",
      "    rho=qq.states[i1]\n",
      "    outlist[i1]=(rho*num(N)).tr()"
     ],
     "language": "python",
     "metadata": {},
     "outputs": [],
     "prompt_number": 15
    },
    {
     "cell_type": "markdown",
     "metadata": {},
     "source": [
      "i przedstawimy wizualizacj\u0119 wyniku:"
     ]
    },
    {
     "cell_type": "code",
     "collapsed": false,
     "input": [
      "plot(tlist,outlist,'-',label='', linewidth=4)\n",
      "xlabel('t',fontsize=20)\n",
      "ylabel('<N>',fontsize=20)\n",
      "show()"
     ],
     "language": "python",
     "metadata": {},
     "outputs": [
      {
       "metadata": {},
       "output_type": "display_data",
       "png": "[encoded data removed]",
       "text": [
        "<matplotlib.figure.Figure at 0xafeb58c>"
       ]
      }
     ],
     "prompt_number": 16
    },
    {
     "cell_type": "markdown",
     "metadata": {},
     "source": [
      "Dynamika sp\u0142\u0105tania\n",
      "------------------\n",
      "\n",
      "Rozwa\u017cmy uk\u0142ad \n",
      "\n",
      "$H=\\sigma_z\\otimes\\sigma_z$, \n",
      "\n",
      "oraz bilokaln\u0105 dekoherencj\u0119 dan\u0105 przez \n",
      "\n",
      "$A_1= \\sigma_x\\otimes\\mathbb{I}$\n",
      "\n",
      "$A_2= \\mathbb{I}\\otimes\\sigma_x$\n"
     ]
    },
    {
     "cell_type": "code",
     "collapsed": false,
     "input": [
      "H=tensor(sigmaz(),sigmaz())"
     ],
     "language": "python",
     "metadata": {},
     "outputs": [],
     "prompt_number": 17
    },
    {
     "cell_type": "code",
     "collapsed": false,
     "input": [
      "d1=sqrt(0.1)*sigmax()\n",
      "D1=tensor(qeye(2),d1)\n",
      "D2=tensor(d1,qeye(2))"
     ],
     "language": "python",
     "metadata": {},
     "outputs": [],
     "prompt_number": 18
    },
    {
     "cell_type": "markdown",
     "metadata": {},
     "source": [
      "Poczatkowo uk\u0142ad jest w stanie Bella:"
     ]
    },
    {
     "cell_type": "code",
     "collapsed": false,
     "input": [
      "psi00=(tensor(basis(2,0),basis(2,0))+tensor(basis(2,1),basis(2,1))).unit()\n",
      "psi0=ket2dm(psi00)"
     ],
     "language": "python",
     "metadata": {},
     "outputs": [],
     "prompt_number": 19
    },
    {
     "cell_type": "code",
     "collapsed": false,
     "input": [
      "tlist=linspace(0,5.0,10.0)\n",
      "outlist=zeros(len(tlist))"
     ],
     "language": "python",
     "metadata": {},
     "outputs": [],
     "prompt_number": 20
    },
    {
     "cell_type": "markdown",
     "metadata": {},
     "source": [
      "Obliczmy dynamik\u0119:"
     ]
    },
    {
     "cell_type": "code",
     "collapsed": false,
     "input": [
      "qq=mesolve(H, psi0, tlist, [D1,D2], [])"
     ],
     "language": "python",
     "metadata": {},
     "outputs": [],
     "prompt_number": 21
    },
    {
     "cell_type": "markdown",
     "metadata": {},
     "source": [
      "a intersuje nas zanik spl\u0105tania (u\u017cywamy funkcji concurrence() ) w obecno\u015bci dekoherencji: "
     ]
    },
    {
     "cell_type": "code",
     "collapsed": false,
     "input": [
      "for i1 in range(len(tlist)):\n",
      "    rho=qq.states[i1]\n",
      "    outlist[i1]=concurrence(rho)"
     ],
     "language": "python",
     "metadata": {},
     "outputs": [],
     "prompt_number": 22
    },
    {
     "cell_type": "markdown",
     "metadata": {},
     "source": [
      "wynik przedtawiamy w postaci wizualizacji graficznej:"
     ]
    },
    {
     "cell_type": "code",
     "collapsed": false,
     "input": [
      "plot(tlist,outlist,'-',label='', linewidth=4)\n",
      "xlabel('t',fontsize=20)\n",
      "ylabel('Concurrence',fontsize=20)\n",
      "show()"
     ],
     "language": "python",
     "metadata": {},
     "outputs": [
      {
       "metadata": {},
       "output_type": "display_data",
       "png": "[encoded data removed]",
       "text": [
        "<matplotlib.figure.Figure at 0xaf7acac>"
       ]
      }
     ],
     "prompt_number": 23
    },
    {
     "cell_type": "markdown",
     "metadata": {},
     "source": [
      "Zadania\n",
      "-------\n",
      "1. Nakre\u015bli\u0107 \u015bredni\u0105 warto\u015b\u0107 rzutu spinu na o\u015b $x$ w proceesie opisanym r\u00f3wnaniem $\\bullet$ dla kilko r\u00f3\u017cnych parametr\u00f3w\n",
      "2. Por\u00f3wna\u0107 wyniki z przypadkiem czystego defazingu, gdy $D\\sim H$\n",
      "3. Nakre\u015bli\u0107 fluktuacje liczby foton\u00f3w w uk\u0142adzie opisywanym kwantowooptycznym r\u00f3wnaniem fundamentalnym.  \n",
      "\n"
     ]
    },
    {
     "cell_type": "code",
     "collapsed": false,
     "input": [],
     "language": "python",
     "metadata": {},
     "outputs": [],
     "prompt_number": 23
    }
   ],
   "metadata": {}
  }
 ]
}