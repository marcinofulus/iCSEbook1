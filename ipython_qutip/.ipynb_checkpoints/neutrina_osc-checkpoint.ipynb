{
 "metadata": {
  "name": ""
 },
 "nbformat": 3,
 "nbformat_minor": 0,
 "worksheets": [
  {
   "cells": [
    {
     "cell_type": "markdown",
     "metadata": {},
     "source": [
      "Dysypatywne oscylacje neutrin\n",
      "==============================\n",
      "\n",
      "Plan\n",
      "----\n",
      "\n",
      "1. Fenomenologiczny model dynamiki oscylacji neutrin w materii\n",
      "2. Numeryczna analiza oscylacji\n",
      "3. Wizualizacja prawdopodobie\u0144stwa oscylacji neutrin\n",
      "4. Zadania\n"
     ]
    },
    {
     "cell_type": "markdown",
     "metadata": {},
     "source": [
      "Oscylacje neutrin to postawowe zjawisko, w kt\u00f3rym mo\u017cemy obserwow\u0107 szerg interesuj\u0105cych w\u0142\u0105sno\u015bci tych tajemniczych cz\u0105stek. \n",
      "Zak\u0142adamy, \u017ce mo\u017cliwy jest fenomenolobicxzny opis zaczepni\u0119ty z prac F.Benattiego i R, Floreanniniego:\n",
      "\n",
      "$ H=H_0+ H_A$\n",
      "\n",
      "gdzie cz\u0119\u015b\u0107 $H_0$  opisuje oscylacje sowobodne, za\u015b $H_A$ oddzia\u0142ywanie z materi\u0105. Za\u0142o\u017cymy, \u017ce mo\u017cemy si\u0119 ograniczy\u0107 do rozwa\u017cania neutrin mionowych i elektronowych, w\u00f3wczas: \n",
      "\n",
      "$H_0=\\left(\\begin{array}{cc}E-\\omega_0-\\omega_3 & \\omega_1-i\\omega_2 \\\\\n",
      "\\omega_1 +i\\omega_2 & E+\\omega_0+\\omega_3\\end{array}\\right)$\n",
      "\n",
      "gdzie $E$ to \u015brednia energia neutrin, $\\omega_0\\sim \\Delta m^2$ opisuje r\u00f3\u017cnic\u0119 mas r\u00f3\u017cnych typ\u00f3w neutrin. Pozosta\u0119 parametry \n",
      "opisuj\u0105 oddzia\u0142ywanie z otoczeniem, ale dla uproszczenia za\u0142o\u017cymy ich znikanie.\n",
      "\n",
      "Cz\u0119\u015b\u0107 hamiltonianu opisuj\u0105ca oddzia\u0142ywanie z materi\u0105:\n",
      "\n",
      "$H_A= \\frac{A}{2}\\left(\\begin{array}{cc} 1+\\cos(2\\theta) & e^{-i\\phi}\\sin(2\\theta)\\\\\n",
      "e^{i\\phi}\\sin(2\\theta) &  1-\\cos(2\\theta)\\end{array} \\right) $\n",
      "\n",
      "zale\u017cy od $A$  reprezentujacego efektywn\u0105 \"gesto\u015b\u0107 materii\" o\u015brodka, w kt\u00f3rym neutrina propaguj\u0105, za\u015b $\\theta$ to tzw. k\u0105t mieszania, parametr znany z coraz liczniejszych eksperyment\u00f3w.  \n",
      "\n",
      "Pocz\u0105tkowo zak\u0142adamy neutrina elektronowe w stanie: \n",
      "\n",
      "$\\rho_{\\nu_e}=\\left(\\begin{array}{cc} \\cos^2(\\theta) & e^{-i\\phi}\\cos(\\theta)\\sin(\\theta) \\\\\n",
      "e^{i\\phi}\\cos(\\theta)\\sin(\\theta)  &  \\sin^2(\\theta)\\end{array}\\right)  $\n",
      "\n",
      "odpowiadaj\u0105cy im stan neutrin mionowych otrzymujemy z zale\u017cno\u015bci:\n",
      "\n",
      "$\\rho_{\\nu_\\mu}=1-\\rho_{\\nu_e}$\n",
      "\n",
      "Paramert $\\phi$ jest niezerowy w przpadku, gdy neutrina mia\u0142yby by\u0107 cz\u0105stkami typu Majorany."
     ]
    },
    {
     "cell_type": "code",
     "collapsed": false,
     "input": [
      "from qutip import *\n",
      "from pylab import *"
     ],
     "language": "python",
     "metadata": {},
     "outputs": [],
     "prompt_number": 1
    },
    {
     "cell_type": "markdown",
     "metadata": {},
     "source": [
      "Wprowad\u017amy oznaczenia:"
     ]
    },
    {
     "cell_type": "code",
     "collapsed": false,
     "input": [
      "up=basis(2,0)\n",
      "dn=basis(2,1)"
     ],
     "language": "python",
     "metadata": {},
     "outputs": [],
     "prompt_number": 2
    },
    {
     "cell_type": "code",
     "collapsed": false,
     "input": [
      "rpp=up*up.dag()\n",
      "rpm=up*dn.dag()\n",
      "rmp=rpm.trans()\n",
      "rmm=dn*dn.dag()"
     ],
     "language": "python",
     "metadata": {},
     "outputs": [],
     "prompt_number": 3
    },
    {
     "cell_type": "markdown",
     "metadata": {},
     "source": [
      "Okre\u015blmy parametry oscylacji:"
     ]
    },
    {
     "cell_type": "code",
     "collapsed": false,
     "input": [
      "E=1.0\n",
      "w0=1.0\n",
      "w3=1.0\n",
      "w2=0.0\n",
      "w1=0.0"
     ],
     "language": "python",
     "metadata": {},
     "outputs": [],
     "prompt_number": 4
    },
    {
     "cell_type": "markdown",
     "metadata": {},
     "source": [
      "Hamiltonian:"
     ]
    },
    {
     "cell_type": "code",
     "collapsed": false,
     "input": [
      "H0=(E-w0-w3)*rpp+(E+w0+w3)*rmm+(w1-1j*w2)*rpm+(w1+1j*w2)*rpm"
     ],
     "language": "python",
     "metadata": {},
     "outputs": [],
     "prompt_number": 5
    },
    {
     "cell_type": "markdown",
     "metadata": {},
     "source": [
      "Dalsze parametry:"
     ]
    },
    {
     "cell_type": "code",
     "collapsed": false,
     "input": [
      "A=1.0\n",
      "theta=pi/3.0\n",
      "phi=0.0"
     ],
     "language": "python",
     "metadata": {},
     "outputs": [],
     "prompt_number": 6
    },
    {
     "cell_type": "code",
     "collapsed": false,
     "input": [
      "HA=A/2.0*((1.0+cos(2.0*theta))*rpp+(1.0-cos(2.0*theta))*rmm+exp(-1j*phi)*sin(2.0*theta)*rpm+exp(1j*phi)*sin(2.0*theta)*rmp) "
     ],
     "language": "python",
     "metadata": {},
     "outputs": [],
     "prompt_number": 7
    },
    {
     "cell_type": "markdown",
     "metadata": {},
     "source": [
      "i ca\u0142y hamiltonian:"
     ]
    },
    {
     "cell_type": "code",
     "collapsed": false,
     "input": [
      "H=H0+HA"
     ],
     "language": "python",
     "metadata": {},
     "outputs": [],
     "prompt_number": 8
    },
    {
     "cell_type": "markdown",
     "metadata": {},
     "source": [
      "a tak\u017ce stan pocz\u0105tkowy:"
     ]
    },
    {
     "cell_type": "code",
     "collapsed": false,
     "input": [
      "psi0=cos(theta)**2.0*rpp+sin(theta)**2.0*rmm+cos(theta)*sin(theta)*(exp(-1j*phi)*rpm+exp(1j*phi)*rmp)\n",
      "psi_mu=qeye(2)-psi0"
     ],
     "language": "python",
     "metadata": {},
     "outputs": [],
     "prompt_number": 9
    },
    {
     "cell_type": "markdown",
     "metadata": {},
     "source": [
      "Nie wykluczajmy r\u00f3wnie\u017c obecno\u015bci dekoherencji wynikaj\u0105cej z wp\u0142ywu otoczenia:"
     ]
    },
    {
     "cell_type": "code",
     "collapsed": false,
     "input": [
      "D=sqrt(0.1)*sigmaz()"
     ],
     "language": "python",
     "metadata": {},
     "outputs": [],
     "prompt_number": 10
    },
    {
     "cell_type": "code",
     "collapsed": false,
     "input": [
      "tlist=linspace(0,5.0,10.0)\n",
      "outlist=zeros(len(tlist))"
     ],
     "language": "python",
     "metadata": {},
     "outputs": [],
     "prompt_number": 11
    },
    {
     "cell_type": "markdown",
     "metadata": {},
     "source": [
      "obliczmy dynamik\u0119 neutrin:"
     ]
    },
    {
     "cell_type": "code",
     "collapsed": false,
     "input": [
      "qq=mesolve(H, psi0, tlist, [D], [])"
     ],
     "language": "python",
     "metadata": {},
     "outputs": [],
     "prompt_number": 12
    },
    {
     "cell_type": "markdown",
     "metadata": {},
     "source": [
      "Charakterystyk\u0105 badan\u0105 b\u0119dzie prawdopodobie\u0144stwo oscylacji:\n",
      "\n",
      "$P_{\\nu_{e}\\rightarrow \\nu_{\\mu}}=\\mbox{Tr}(\\rho_{\\nu_{e}}(t)\\rho_{\\nu_{\\mu}})$"
     ]
    },
    {
     "cell_type": "code",
     "collapsed": false,
     "input": [
      "for i1 in range(len(tlist)):\n",
      "    rho=qq.states[i1]\n",
      "    outlist[i1]=abs((rho*psi_mu).tr())"
     ],
     "language": "python",
     "metadata": {},
     "outputs": [],
     "prompt_number": 13
    },
    {
     "cell_type": "markdown",
     "metadata": {},
     "source": [
      "Przedstawmy wizualizacj\u0119 otrzymanego wyniku: "
     ]
    },
    {
     "cell_type": "code",
     "collapsed": false,
     "input": [
      "plot(tlist,outlist,'-',label='', linewidth=4)\n",
      "xlabel('t',fontsize=20)\n",
      "ylabel('P(nu->mu)',fontsize=20)\n",
      "show()"
     ],
     "language": "python",
     "metadata": {},
     "outputs": [
      {
       "metadata": {},
       "output_type": "display_data",
       "png": "[encoded data removed]",
       "text": [
        "<matplotlib.figure.Figure at 0x39bce10>"
       ]
      }
     ],
     "prompt_number": 14
    },
    {
     "cell_type": "markdown",
     "metadata": {},
     "source": [
      "Zadania\n",
      "-------\n",
      "1. Przedstawi\u0107 wp\u0142yw $\\phi$ na wyniki $P$\n",
      "2. Okre\u015bli\u0107 wp\u0142yw $\\omega_{1,2}$ na wyniki $P$"
     ]
    },
    {
     "cell_type": "code",
     "collapsed": false,
     "input": [],
     "language": "python",
     "metadata": {},
     "outputs": [],
     "prompt_number": 14
    }
   ],
   "metadata": {}
  }
 ]
}