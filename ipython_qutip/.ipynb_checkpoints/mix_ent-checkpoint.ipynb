{
 "metadata": {
  "name": ""
 },
 "nbformat": 3,
 "nbformat_minor": 0,
 "worksheets": [
  {
   "cells": [
    {
     "cell_type": "markdown",
     "metadata": {},
     "source": [
      "Spl\u0105tanie stan\u00f3w mieszanych\n",
      "===========================\n",
      "\n",
      "Plan\n",
      "----\n",
      "\n",
      "1. Kryterium Peresa spl\u0105tania stan\u00f3w\n",
      "2. Twierdzienie Horodeckich\n",
      "3. Ujemno\u015b\u0107 jako miara splatania\n",
      "4. Numeryczne obliczenie ujemno\u015bci\n",
      "5. Wizualizacja ujemno\u015bci w depolarayzacji stanu Bella\n",
      "6. Zadania"
     ]
    },
    {
     "cell_type": "markdown",
     "metadata": {},
     "source": [
      "Rozwa\u017cmy uk\u0142ad kwantowy sk\u0142adaj\u0105cy si\u0119 z dwu poduk\u0142ad\u00f3w $A$ oraz $B$. Przestrze\u0144 Hilberta takie uk\u0142adu ma struktur\u0119 iloczynu tensorowego \n",
      "\n",
      "$\\mathcal{H}=\\mathcal{H}_A\\otimes \\mathcal{H}_B$\n",
      "\n",
      "przy czym rozwa\u017camy przypadek, gdy wymiar przestrzeni jest sko\u0144czony $dim\\mathcal{H}<\\infty$. \n",
      "\n",
      "Dowolny stan uk\u0142adu $AB$ mo\u017cna zapisa\u0107 w wybranej bazie ortonormalnej nast\u0119puj\u0105co:\n",
      "\n",
      "$ \\rho=\\sum_{i,j,k,l}  q_{i,j,k,l} |i,j\\rangle\\langle k,l| $\n",
      "\n",
      "gdzie $|i,j\\rangle\\langle k,l|=|i\\rangle\\langle k|\\otimes |j\\rangle\\langle l|$.\n",
      "\n",
      "Sumowanie przebiega od $1$ do wymiaru odpowiedniej przestrzeni Hilberta. W szczeg\u00f3lno\u015bci w przypadku pary qubit\u00f3w \n",
      "sumowanie jest sum\u0105 poczw\u00f3rn\u0105 od $1$ do $2$ ka\u017cda. \n",
      "\n",
      "Problem rozpoznania, czy stan czysty $\\rho$ jest spl\u0105tany jest prawie trywialny. Obliczamy\n",
      "\u015blad cz\u0119\u015bciowy po dowolnym poduk\u0142adzie:\n",
      "\n",
      "$\\rho_A=\\mbox{Tr}_B \\rho$\n",
      "\n",
      "a nast\u0119pnie sparwdzamy, czy uzyskany stan $\\rho_A$  jest mieszany obliczaj\u0105c na przyk\u0142ad jego entropi\u0119 liniow\u0105:\n",
      "\n",
      "$S_L[\\rho_A]=1-\\mbox{Tr}\\rho_A^2$\n",
      " \n",
      "$S_L=0$ wtedy i tyko wtedy, gdy $\\rho$ jest separowalny.\n",
      "\n",
      "\n",
      "\n",
      "W przypadku stan\u00f3w mieszanych sytuacja si\u0119 komplikuje. W pierwszym kroku musimy zdefiniowa\u0107, co znaczy _splatany_ w odniesieniu do stanu mieszanego. Ju\u017c tu napotykamy na trudno\u015b\u0107. Definicja jest zaskakuj\u0105ca: \n",
      "\n",
      "__Definicja__ \n",
      "\n",
      "Je\u015bli stan uk\u0142adu $AB$ mo\u017cemy zapisa\u0107 nastepuj\u0105co:\n",
      "\n",
      "$\\rho=\\sum_i p_i \\rho_i^A \\otimes \\rho_i^B \\,\\,\\,\\,\\,\\,\\,\\, (\\bullet)$\n",
      "\n",
      "gdzie $\\rho_i^{A,B}$ s\u0105 pewnymi _stanami_ poduk\u0142ad\u00f3w $A$ oraz $B$ __to__ stan $\\rho$ __nie jest spl\u0105tany__.\n",
      "\n",
      "\"Nie jest spl\u0105tany\"- a wi\u0119c _jaki_ ? Rozwa\u017cmy sytuacje:\n",
      "\n",
      "a. $p_i=\\delta_{i,j}$ w\u00f3wczas stan jest __separowalny__\n",
      "\n",
      "b. $p_i \\neq \\delta_{i,j}$ w\u00f3wczas stan nazwiemy __niespl\u0105tanym, skorelowanym klasycznie__. \n",
      "\n",
      "je\u017celi stan $\\rho$ nie daje si\u0119 zapisa\u0107 w \u017cadnej z powy\u017cszych postaci mo\u017ce by\u0107  __spl\u0105tany__. Na  mocy kontrapozycji: je\u017celi jest spl\u0105tany to nie da si\u0119 go zapisa\u0107 w  postaci $(\\bullet)$.   \n",
      "\n",
      "\n",
      "\n",
      "\n",
      "\n",
      "\n",
      "\n"
     ]
    },
    {
     "cell_type": "markdown",
     "metadata": {},
     "source": [
      "__Kryterium Peresa__\n",
      "\n",
      "\n",
      "Aby rozpozna\u0107, czy stan jest w postaci $(\\bullet)$ wykorzystamy operacj\u0119 __cz\u0119\u015bciowej transpozycji__ :\n",
      "\n",
      "$ \\rho^{PT}=\\sum_{i,j,k,l}  q_{i,j,k,l} |i\\rangle\\langle k|^T\\otimes |j\\rangle\\langle l| $\n",
      "\n",
      "operacja ta dzia\u0142a jak transpozycja na jednym z poduk\u0142ad\u00f3w daj\u0105c macierz:\n",
      "\n",
      "$ \\rho^{PT}=\\sum_{i,j,k,l}  q_{i,j,k,l} |k\\rangle\\langle i|\\otimes |j\\rangle\\langle l| $\n",
      "\n",
      "Zauwa\u017cmy, \u017ce w przypadku stanu ($\\bullet$) wynikiem cz\u0119\u015bciowej transpozycji stanu $\\rho$\n",
      "jest nowy __stan__ $\\rho'$:\n",
      "\n",
      "$\\rho^{PT}=\\sum_i p_i [\\rho_i^A]^T \\otimes \\rho_i^B =\\rho'$\n",
      "\n",
      "gdy\u017c stany $\\rho_i^A$ s\u0105 hermitowskie. \n",
      "\n",
      "\n",
      "Mo\u017ce si\u0119 jednak zdarzy\u0107, \u017ce cz\u0119sciowa traspozycja daje macierz, kt\u00f3ra nie jest stanem:\n",
      "\n",
      "$\\rho^{PT}\\neq \\rho'$\n",
      "\n",
      "i nie jest nieujemnie okre\u015blona (ma ujemne warto\u015bci w\u0142asne). Je\u015bli tak si\u0119 zdarzy wiemy, \u017ce stan $\\rho$ jest spl\u0105tany. Taki typ stanu spl\u0105tanego nazywamy stanem NPT (negative wr. to partial transposition). \n",
      "\n",
      "__Uwaga__ Stany NPT nie s\u0105 jedynymi stanami splatanymi. W og\u00f3lno\u015bci istniej\u0105 stany splatane, kt\u00f3rych cz\u0119\u015bciowa transpozycja prowadzi do innego stanu, S\u0105 to stany splatane PPT. \n",
      "\n",
      "__Twierdzenie Horodeckich__\n",
      "\n",
      "W przypadku, gdy uk\u0142ad $AB$ sk\u0142ada si\u0119 z pary qubit\u00f3w (wymiar $2\\otimes 2$) lub pary qubit-qutrit (wymiar $2\\otimes 3$)\n",
      "wszystkie stany spl\u0105tane s\u0105 NPT. \n"
     ]
    },
    {
     "cell_type": "markdown",
     "metadata": {},
     "source": [
      "__Ujemno\u015b\u0107__ (negativity)\n",
      "\n",
      "Kryterium Peresa pozwala na kostrukcj\u0119 u\u017cytecznej miary splatania. Ujemno\u015b\u0107 pozwala oceni\u0107 jak bardzo stan jest splatany. \n",
      "Miara ta zdefiniowana jest nast\u0119puj\u0105co:\n",
      "\n",
      "$ N[\\rho]=\\sum_i (|\\lambda_i|-\\lambda_i)$\n",
      "\n",
      "gdzie $\\rho^{PT}|\\lambda_i\\rangle = \\lambda_i|\\lambda_i\\rangle$, innymi s\u0142owy, $\\lambda_i$ to warto\u015bci w\u0142asne macierzy $\\rho^{PT}$.\n",
      "\n",
      "Je\u015bli $N[\\rho]>0$ to stan $\\rho$ jest stanem spl\u0105tanym (NPT).   \n",
      "\n",
      "__Uwaga__ Detekcja stan\u00f3w spl\u0105tanych PPT za pomoc\u0105 ujemno\u015bci jest niemo\u017cliwa. \n",
      "\n",
      "Ujemno\u015b\u0107 jest miar\u0105 alternatywn\u0105 do _concurrence_. Zalet\u0105 $N$ jest \u0142atwo\u015b\u0107 jej  obliczenia _niezale\u017cnie_ od wymiaru przestrzeni stan\u00f3w. "
     ]
    },
    {
     "cell_type": "markdown",
     "metadata": {},
     "source": [
      "Przyst\u0105pimy do konstrujcji narz\u0119dzia numerycznego do obliczania ujemno\u015bci. Rozpocznijmy od pobrania odpowiednich narz\u0119dzi:"
     ]
    },
    {
     "cell_type": "code",
     "collapsed": false,
     "input": [
      "from qutip import *\n",
      "from pylab import *"
     ],
     "language": "python",
     "metadata": {},
     "outputs": [],
     "prompt_number": 1
    },
    {
     "cell_type": "markdown",
     "metadata": {},
     "source": [
      "Jako przyk\u0142ad wykorzystamy jeden ze stan\u00f3w Bella:"
     ]
    },
    {
     "cell_type": "code",
     "collapsed": false,
     "input": [
      "B0=(tensor(basis(2,0),basis(2,0))+tensor(basis(2,1),basis(2,1))).unit()"
     ],
     "language": "python",
     "metadata": {},
     "outputs": [],
     "prompt_number": 2
    },
    {
     "cell_type": "markdown",
     "metadata": {},
     "source": [
      "Ujemno\u015b\u0107 oblicza\u0107 b\u0119dziemy za pomoc\u0105 zdefiniowanej poni\u017cej funkcji negat() wykorzystuj\u0105cej funkcj\u0119 QuTipa partial_transpose():"
     ]
    },
    {
     "cell_type": "code",
     "collapsed": false,
     "input": [
      "def negat(rho):\n",
      "    xx=partial_transpose(rho,[0,1])\n",
      "    vv=xx.eigenenergies()\n",
      "    n=0.0\n",
      "    for i1 in range(0,rho.shape[0]):\n",
      "        n=n+abs(vv[i1])-vv[i1]\n",
      "    return n"
     ],
     "language": "python",
     "metadata": {},
     "outputs": [],
     "prompt_number": 3
    },
    {
     "cell_type": "markdown",
     "metadata": {},
     "source": [
      "Dalej przedstawimy wizualizacj\u0119 ujemno\u015bci dla nast\u0119puj\u0105cej rodziny stan\u00f3w:\n",
      "\n",
      "$\\rho=(1-p)\\rho_{Bell}+\\frac{p}{4}\\mathbf{I}, p\\in[0,1]$\n",
      "\n",
      "czyli zdepolaryzowanych stan\u00f3w Bella. Nale\u017cy zauwa\u017cy\u0107, \u017ce wyb\u00f3r ten pozwala na weryfikacj\u0119 uzyskanych wynik\u00f3w poprzez por\u00f3wnanie z wynikami analitycznymi."
     ]
    },
    {
     "cell_type": "code",
     "collapsed": false,
     "input": [
      "plist=linspace(0,1,50)\n",
      "nlist=zeros(len(plist))"
     ],
     "language": "python",
     "metadata": {},
     "outputs": [],
     "prompt_number": 4
    },
    {
     "cell_type": "markdown",
     "metadata": {},
     "source": [
      "Po zdefiniowaniu list zawieraj\u0105cych warto\u015bci $p$ i $N$ obliczmy:"
     ]
    },
    {
     "cell_type": "code",
     "collapsed": false,
     "input": [
      "for i1 in range(len(plist)):\n",
      "    p=plist[i1]\n",
      "    rho=(1.0-p)*ket2dm(B0)+p/4.0*tensor(qeye(2),qeye(2))\n",
      "    nlist[i1]=negat(rho)"
     ],
     "language": "python",
     "metadata": {},
     "outputs": [],
     "prompt_number": 5
    },
    {
     "cell_type": "markdown",
     "metadata": {},
     "source": [
      "A nast\u0119pnie wykre\u015blmy wynik:"
     ]
    },
    {
     "cell_type": "code",
     "collapsed": false,
     "input": [
      "plot(plist,nlist,'-',label='', linewidth=4)\n",
      "xlabel('p',fontsize=20)\n",
      "ylabel('N',fontsize=20)\n",
      "show()"
     ],
     "language": "python",
     "metadata": {},
     "outputs": [
      {
       "metadata": {},
       "output_type": "display_data",
       "png": "[encoded data removed]",
       "text": [
        "<matplotlib.figure.Figure at 0x9af796c>"
       ]
      }
     ],
     "prompt_number": 6
    },
    {
     "cell_type": "markdown",
     "metadata": {},
     "source": [
      "Zadania\n",
      "-------\n",
      "\n",
      "1. Obliczy\u0107 analitycznie warto\u015b\u0107 najmniejszego $p$, dla kt\u00f3rego $N=0$ w powy\u017cszym przyk\u0142adzie\n",
      "2. Powt\u00f3rzy\u0107 wizualizacj\u0119 przy u\u017cyciu funkcji concurrence(). Wyci\u0105gn\u0105\u0107 wnioski.\n",
      "3. Przprowadzi\u0107 analogiczn\u0105 analiz\u0119 dla innych stan\u00f3w Bella."
     ]
    },
    {
     "cell_type": "code",
     "collapsed": false,
     "input": [],
     "language": "python",
     "metadata": {},
     "outputs": [],
     "prompt_number": 6
    }
   ],
   "metadata": {}
  }
 ]
}