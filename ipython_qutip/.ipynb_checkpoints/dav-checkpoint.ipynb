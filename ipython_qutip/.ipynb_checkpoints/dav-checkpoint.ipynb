{
 "metadata": {
  "name": ""
 },
 "nbformat": 3,
 "nbformat_minor": 0,
 "worksheets": [
  {
   "cells": [
    {
     "cell_type": "markdown",
     "metadata": {},
     "source": [
      "Qubit w otoczeniu termicznym\n",
      "============================\n",
      "\n",
      "Plan\n",
      "----\n",
      "\n",
      "1. Przedstawienia zakresu stoswalno\u015bci przybli\u017cenia Daviesa\n",
      "2. Definicja i w\u0142asnosci map Daviesa, konstrukcja numeryczna \n",
      "3. Mapa Daviesa w dzia\u0142aniu na qubit: wizualizacja wybranych w\u0142asno\u015bci \n",
      "4. Dynamika spl\u0105tania kwantowego a wp\u0142yw otoczenia termicznego.\n",
      "5. Zadania."
     ]
    },
    {
     "cell_type": "markdown",
     "metadata": {},
     "source": [
      "__Przybli\u017cenie Davisa__ to znane w kwantowej fizyce statystycznej narz\u0119dzie s\u0142u\u017c\u0105ce do opisu dynamiki zredukowanej\n",
      "\n",
      "$\\rho(t)=\\mbox{Tr}_{E} R(t)$\n",
      "\n",
      "gdzie $R$ jest stanem uk\u0142adu kwantowego sk\u0142adaj\u0105cego si\u0119 z badanego poduk\u0142adu (w naszym przypadku to qubit lub para qubit\u00f3w)\n",
      "oraz termostatu (zwyczajowo modelowanego jako _pole_ bozonowe lub fermionowe), za\u015b \u015blad wykonuje si\u0119 jedynie po stopniach swobody termostatu. Powy\u017cszy \u015blad cz\u0119\u015bciowy oblicza si\u0119 przy wykorzystaniu szeregu przybli\u017ce\u0144. Spo\u015br\u00f3d najbardziej znanych wymie\u0144my przybli\u017cenia Borna i Markowa. Ich om\u00f3wieniu po\u015bwi\u0119cimy si\u0119 kiedy indziej. \n",
      "\n",
      "W przypadku przybli\u017cenia Daviesa mo\u017cemy m\u00f3wi\u0107 o wysoce posuni\u0119tej \u015bcis\u0142o\u015bci matematycznej. W oparciu o szczeg\u00f3\u0142ow\u0105 znajomo\u015b\u0107 parametr\u00f3w uk\u0142adu i termostatu otrzymuje si\u0119 dynamik\u0119 zredukowan\u0105 b\u0119d\u0105c\u0105 rozwi\u0105zaniem pewnego typu _r\u00f3wnania fundamentalnego_ (tzw. r\u00f3wnania Master):\n",
      "\n",
      "$\\frac{d}{dt}\\rho(t)=\\mathcal{L}[\\rho(t)]$\n",
      "\n",
      "gdzie informacja o w\u0142asno\u015bciach uk\u0142adu kryje si\u0119 w superoperatorze $\\mathcal{L}$. Nale\u017cy podkre\u015bli\u0107, \u017ce rozwi\u0105zanie r\u00f3wnania fundamentalnego jest w og\u00f3lnym przypadku trudne.   \n",
      "\n",
      "W tych materia\u0142ach badamy, ograniczaj\u0105c si\u0119 do przypadku qubit\u00f3w,  rozwi\u0105zanie uproszczone dane  za pomoc\u0105 tzw.  __mapy Daviesa__ [W. Roga, M. Fannes, K. \u017byczkowski, RMP 66, 311 (2010)]. Opisuje ona rozwi\u0105zania r\u00f3wnania funadamentalnego w wybranych chwilach czasu.    "
     ]
    },
    {
     "cell_type": "markdown",
     "metadata": {},
     "source": [
      "Mapa Daviesa $D=D(p,A,G,\\omega,t)$ okre\u015blona na macierzach bazowych zbioru operator\u00f3w qubitowych (2 wymiary)\n",
      "ma nast\u0119puj\u0105c\u0105 posta\u0107\n",
      "\n",
      "$ D|1\\rangle\\langle 1|= [1-(1-p)(1-e^{-At})]|1\\rangle\\langle 1|+(1-p)(1-e^{-At})|0\\rangle\\langle 0| $\n",
      "\n",
      "$ D|1\\rangle\\langle 0|= e^{i\\omega t -Gt}|1\\rangle\\langle 0| $\n",
      "\n",
      "$ D|0\\rangle\\langle 1|= e^{-i\\omega t -Gt}|0\\rangle\\langle 1| $\n",
      "\n",
      "$ D|0\\rangle\\langle 0|= (1-e^{-At})|1\\rangle\\langle 1|+[1-(1-e^{-At})]|0\\rangle\\langle 0|$\n",
      "\n",
      "gdzie $p\\in[0,1/2]$ wi\u0105\u017ce si\u0119 z temperatur\u0105 (przy $k_B=1$) poprzez: \n",
      "\n",
      "$ p=\\exp(-\\omega/2T)/[\\exp(-\\omega/2T)+\\exp(\\omega/2T)].  $\n",
      "\n",
      "$\\omega$ opisuje odleg\u0142o\u015b\u0107 mi\u0119dzy poziomami energetycznymi qubitu:\n",
      "\n",
      "$H_Q=\\frac{\\omega}{2}(|1\\rangle\\langle 1|-|0\\rangle\\langle 0|)$\n",
      "\n",
      "Parametry $A = 1/\\tau_R$ oraz $G = 1/\\tau_D$  wi\u0105\u017c\u0105 si\u0119 z czasem relaksacji enregii $\\tau_R$ oraz czasem defazingu $\\tau_D$.\n",
      "\n",
      "Zauwa\u017cmy, \u017ce dla d\u0142ugich czas\u00f3w  mapa Daviesa daje r\u00f3wnowagowy stan Gibbsa:\n",
      "\n",
      "$ \\lim_{t\\rightarrow\\infty}D(p,A,G,\\omega,t)\\rho=p|1\\rangle\\langle 1|+(1-p)|0\\rangle\\langle 0|$\n",
      "\n",
      "__UWAGA__ Parametry mapy Daviesa wymagaj\u0105 spe\u0142nienia $ G \\ge A/2 $ dla uzyskania fizycznie sensownych w\u0142asno\u015bci mapy (takich jak zupe\u0142na dodatnio\u015b\u0107)"
     ]
    },
    {
     "cell_type": "markdown",
     "metadata": {},
     "source": [
      "Przyst\u0105pmy do numerycznej konstrukcji mapy Daviesa. W pierwszym kroku importujemy odpowiednie narz\u0119dzia "
     ]
    },
    {
     "cell_type": "code",
     "collapsed": false,
     "input": [
      "from qutip import *\n",
      "from pylab import *"
     ],
     "language": "python",
     "metadata": {},
     "outputs": [],
     "prompt_number": 1
    },
    {
     "cell_type": "markdown",
     "metadata": {},
     "source": [
      "i wprowadzamy uproszczenia notacji dla bazy przestrzeni Hilberta qubitu"
     ]
    },
    {
     "cell_type": "code",
     "collapsed": false,
     "input": [
      "up=basis(2,0)\n",
      "dn=basis(2,1)"
     ],
     "language": "python",
     "metadata": {},
     "outputs": [],
     "prompt_number": 2
    },
    {
     "cell_type": "markdown",
     "metadata": {},
     "source": [
      "Szczeg\u00f3ln\u0105 rol\u0119 odgrywaj\u0105 dalej macierze bazowe, za pomoc\u0105 kt\u00f3rych wyrazi\u0107 mo\u017cna dowoln\u0105 macierz dzia\u0142aj\u0105c\u0105 na przestrzeni Hilberta pojedynczego qubitu:"
     ]
    },
    {
     "cell_type": "code",
     "collapsed": false,
     "input": [
      "rpp=up*up.dag()\n",
      "rpm=up*dn.dag()\n",
      "rmp=rpm.trans()\n",
      "rmm=dn*dn.dag()"
     ],
     "language": "python",
     "metadata": {},
     "outputs": [],
     "prompt_number": 3
    },
    {
     "cell_type": "markdown",
     "metadata": {},
     "source": [
      "Nast\u0119pnie definiujemy dzia\u0142anie mapy Daviesa na macierzach bazowych jako funkcj\u0119 parametr\u00f3w termostatu i czasu $t$"
     ]
    },
    {
     "cell_type": "code",
     "collapsed": false,
     "input": [
      "def dav_pp(A,G,p,W,t):\n",
      "    xx=(1-(1-p)*(1-exp(-A*t)))*rpp+(1-p)*(1-exp(-A*t))*rmm\n",
      "    return xx\n",
      "def dav_pm(A,G,p,W,t):\n",
      "    xx=exp(-1j*W*t)*exp(-G*t)*rpm\n",
      "    return xx\n",
      "def dav_mp(A,G,p,W,t):\n",
      "    xx=exp(1j*W*t)*exp(-G*t)*rmp\n",
      "    return xx\n",
      "def dav_mm(A,G,p,W,t):\n",
      "    xx=(1-((1-p)*(1-exp(-A*t)))*p/(1-p))*rmm+(1-p)*(1-exp(-A*t))*p/(1-p)*rpp\n",
      "    return xx"
     ],
     "language": "python",
     "metadata": {},
     "outputs": [],
     "prompt_number": 4
    },
    {
     "cell_type": "markdown",
     "metadata": {},
     "source": [
      "Oczywi\u015bcie funkcj\u0119 tak\u0105 mo\u017cemy teraz okre\u015bli\u0107 bezpo\u015brednio dla stanu $\\rho$ uwzgl\u0119dniaj\u0105c fakt, \u017ce \n",
      "w zbiorze macierzy g\u0119sto\u015bci mo\u017cna wprowadzi\u0107 iloczyn skalarny Hilberta Schmidta \n",
      "\n",
      "$\\langle A,B\\rangle=\\mbox{Tr}(A^\\dagger B) $ \n",
      "\n",
      "pozwalaj\u0105cy na znalezienie sk\u0142adowych dowolnej macierzy w wybranej ortonormalnej bazie macierzowej:"
     ]
    },
    {
     "cell_type": "code",
     "collapsed": false,
     "input": [
      "def davis(rho,A,G,p,W,t):\n",
      "    #\n",
      "    dpp=dav_pp(A,G,p,W,t)\n",
      "    dpm=dav_pm(A,G,p,W,t)\n",
      "    dmp=dav_mp(A,G,p,W,t)\n",
      "    dmm=dav_mm(A,G,p,W,t)\n",
      "    #\n",
      "    xpp=(rpp*rho.dag()).tr()\n",
      "    xmp=(rmp*rho.dag()).tr()\n",
      "    xpm=(rpm*rho.dag()).tr()\n",
      "    xmm=(rmm*rho.dag()).tr()\n",
      "    out=xpp*dpp+xmm*dmm+xmp*dmp+xpm*dpm\n",
      "    return out\n",
      "    "
     ],
     "language": "python",
     "metadata": {},
     "outputs": [],
     "prompt_number": 5
    },
    {
     "cell_type": "markdown",
     "metadata": {},
     "source": [
      "Teraz mo\u017cemy ustali\u0107 parametry:"
     ]
    },
    {
     "cell_type": "code",
     "collapsed": false,
     "input": [
      "A=1.0\n",
      "G=1.0\n",
      "p=1.0/2.0\n",
      "q=1.0/2.0\n",
      "W=0.0"
     ],
     "language": "python",
     "metadata": {},
     "outputs": [],
     "prompt_number": 6
    },
    {
     "cell_type": "markdown",
     "metadata": {},
     "source": [
      "i stan pocz\u0105tkowy:"
     ]
    },
    {
     "cell_type": "code",
     "collapsed": false,
     "input": [
      "vv=(up+dn).unit()\n",
      "rho=ket2dm(vv)\n",
      "rho"
     ],
     "language": "python",
     "metadata": {},
     "outputs": [
      {
       "latex": [
        "\\begin{equation}\\text{Quantum object: dims = [[2], [2]], shape = [2, 2], type = oper, isHerm = True}\\\\[1em]\\begin{pmatrix}0.5 & 0.5\\\\0.5 & 0.5\\\\\\end{pmatrix}\\end{equation}"
       ],
       "metadata": {},
       "output_type": "pyout",
       "prompt_number": 7,
       "text": [
        "Quantum object: dims = [[2], [2]], shape = [2, 2], type = oper, isherm = True\n",
        "Qobj data =\n",
        "[[ 0.5  0.5]\n",
        " [ 0.5  0.5]]"
       ]
      }
     ],
     "prompt_number": 7
    },
    {
     "cell_type": "markdown",
     "metadata": {},
     "source": [
      "Naszym pierwszym zadniem b\u0119dzie wizualizacja warto\u015bci entropii von Neumanna\n",
      " \n",
      "$S(\\rho)=-\\mbox{Tr}(\\rho\\log\\rho) $\n",
      "\n",
      "dla stanu $\\rho(t)=D\\rho$\n",
      "\n",
      "Na wst\u0119pie okre\u015blmy listy dla chwil czasu (tlist) oraz wynik\u00f3w (outlist): "
     ]
    },
    {
     "cell_type": "code",
     "collapsed": false,
     "input": [
      "tlist=linspace(0.0,3.0,20.0)\n",
      "outlist=zeros(len(tlist))"
     ],
     "language": "python",
     "metadata": {},
     "outputs": [],
     "prompt_number": 8
    },
    {
     "cell_type": "markdown",
     "metadata": {},
     "source": [
      "W nast\u0119pnym kroku obliczamy, u\u017cywaj\u0105c funkcji QuTip entropy_vn(), entropi\u0119 dla ka\u017cdej chwili czasu. Wczae\u015bniej przy u\u017cyciu naszej funkcji davis() znajdujemy oczywi\u015bci $\\rho(t)$:"
     ]
    },
    {
     "cell_type": "code",
     "collapsed": false,
     "input": [
      "for i1 in range(len(tlist)):\n",
      "    t=tlist[i1]\n",
      "    out=davis(rho,A,G,p,W,t)\n",
      "    outlist[i1]=entropy_vn(out)"
     ],
     "language": "python",
     "metadata": {},
     "outputs": [],
     "prompt_number": 9
    },
    {
     "cell_type": "markdown",
     "metadata": {},
     "source": [
      "Uzyskane wyniki mo\u017cna nakre\u015bli\u0107:"
     ]
    },
    {
     "cell_type": "code",
     "collapsed": false,
     "input": [
      "plot(tlist,outlist,'-.r',label='xx', linewidth=4)\n",
      "xlabel('t',fontsize=20)\n",
      "ylabel('S_vN',fontsize=20)\n",
      "show()"
     ],
     "language": "python",
     "metadata": {},
     "outputs": [
      {
       "metadata": {},
       "output_type": "display_data",
       "png": "[encoded data removed]",
       "text": [
        "<matplotlib.figure.Figure at 0xa7ff08c>"
       ]
      }
     ],
     "prompt_number": 10
    },
    {
     "cell_type": "markdown",
     "metadata": {},
     "source": [
      "Rozwa\u017cmy teraz inny, nie mniej ciekawy, problem. Maj\u0105c dany maksymalnie spl\u0105tany stan Bella:"
     ]
    },
    {
     "cell_type": "code",
     "collapsed": false,
     "input": [
      "BB0=(tensor(rpp,rmm)+tensor(rpm,rmp)+tensor(rmp,rpm)+tensor(rmm,rpp))/2.0"
     ],
     "language": "python",
     "metadata": {},
     "outputs": [],
     "prompt_number": 11
    },
    {
     "cell_type": "markdown",
     "metadata": {},
     "source": [
      "spr\u00f3bujmy okre\u015bli\u0107 i zwizualizowa\u0107 wp\u0142yw otoczenia termicznego na spl\u0105tanie tego stanu. \n",
      "Korzystaj\u0105c z faktu, \u017ce mapa Daviesa jest operacj\u0105 liniow\u0105 wystarczy okre\u015bli\u0107 jej dzia\u0142anie na macierzach bazowych przy ustalonych parametrach termostatu: "
     ]
    },
    {
     "cell_type": "code",
     "collapsed": false,
     "input": [
      "A=1.0\n",
      "G=1.0\n",
      "p=1.0/2.0\n",
      "q=1.0/2.0\n",
      "W=0.0"
     ],
     "language": "python",
     "metadata": {},
     "outputs": [],
     "prompt_number": 12
    },
    {
     "cell_type": "code",
     "collapsed": false,
     "input": [
      "t=0.1\n",
      "dpp=dav_pp(A,G,p,W,t)\n",
      "dpm=dav_pm(A,G,p,W,t)\n",
      "dmp=dav_mp(A,G,p,W,t)\n",
      "dmm=dav_mm(A,G,p,W,t)"
     ],
     "language": "python",
     "metadata": {},
     "outputs": [],
     "prompt_number": 13
    },
    {
     "cell_type": "markdown",
     "metadata": {},
     "source": [
      "Je\u015bli przyjmiemy, \u017ce tylko jeden z qubit\u00f3w tworz\u0105cych stan Bella jest w kontakcie z termostatem, w\u00f3wczas , w chwili $t=0.1$ stan BB0 przekszta\u0142aca si\u0119 do postaci:"
     ]
    },
    {
     "cell_type": "code",
     "collapsed": false,
     "input": [
      "Env=(tensor(dpp,rpp)+tensor(dpm,rpm)+tensor(dmp,rmp)+tensor(dmm,rmm))/2.0"
     ],
     "language": "python",
     "metadata": {},
     "outputs": [],
     "prompt_number": 14
    },
    {
     "cell_type": "markdown",
     "metadata": {},
     "source": [
      "Spl\u0105tanie stanu Env mo\u017cna  zmierzy\u0107 i obliczy\u0107 wykorzystuj\u0105c funkcj\u0119 concurrence(). Przypomnijmy, \u017ce przyjmuje ona warto\u015b\u0107 1 w przypadku stan\u00f3w maksymalnie spl\u0105tanych, za\u015b 0 dla stan\u00f3w niespl\u0105tanych "
     ]
    },
    {
     "cell_type": "code",
     "collapsed": false,
     "input": [
      "concurrence(Env)"
     ],
     "language": "python",
     "metadata": {},
     "outputs": [
      {
       "metadata": {},
       "output_type": "pyout",
       "prompt_number": 15,
       "text": [
        "0.85725612705393783"
       ]
      }
     ],
     "prompt_number": 15
    },
    {
     "cell_type": "markdown",
     "metadata": {},
     "source": [
      "Teraz za\u015b wykonamy powy\u017csze zadanie dla ca\u0142ego przedzia\u0142u czasu:"
     ]
    },
    {
     "cell_type": "code",
     "collapsed": false,
     "input": [
      "tlist=linspace(0.0,3.0,20.0)\n",
      "outlist=zeros(len(tlist))\n",
      "for i1 in range(len(tlist)):\n",
      "    t=tlist[i1]\n",
      "    #\n",
      "    dpp=dav_pp(A,G,p,W,t)\n",
      "    dpm=dav_pm(A,G,p,W,t)\n",
      "    dmp=dav_mp(A,G,p,W,t)\n",
      "    dmm=dav_mm(A,G,p,W,t)\n",
      "    #\n",
      "    out=(tensor(dpp,dpp)+tensor(dpm,dpm)+tensor(dmp,dmp)+tensor(dmm,dmm))/2.0\n",
      "    outlist[i1]=concurrence(out)"
     ],
     "language": "python",
     "metadata": {},
     "outputs": [],
     "prompt_number": 16
    },
    {
     "cell_type": "markdown",
     "metadata": {},
     "source": [
      "Uzyskane wyniki nakre\u015blimy:"
     ]
    },
    {
     "cell_type": "code",
     "collapsed": false,
     "input": [
      "plot(tlist,outlist,'-.r',label='xx', linewidth=4)\n",
      "xlabel('t',fontsize=20)\n",
      "ylabel('C',fontsize=20)\n",
      "show()"
     ],
     "language": "python",
     "metadata": {},
     "outputs": [
      {
       "metadata": {},
       "output_type": "display_data",
       "png": "[encoded data removed]",
       "text": [
        "<matplotlib.figure.Figure at 0xa8292cc>"
       ]
      }
     ],
     "prompt_number": 17
    },
    {
     "cell_type": "markdown",
     "metadata": {},
     "source": [
      "Zadania\n",
      "-------\n",
      "1. Przeanalizowa\u0107 w\u0142asno\u015bci entropii qubitu w przypadku innych stan\u00f3w pocz\u0105tkowych\n",
      "2. Przeanalizowa\u0107 w\u0142asno\u015bci entropii qubitu w przypadku $A=0$\n",
      "3. Wykre\u015bli\u0107 wp\u0142yw otoczenia termicznego na dymanik\u0119 spl\u0105tania innych stan\u00f3w Bella "
     ]
    },
    {
     "cell_type": "code",
     "collapsed": false,
     "input": [],
     "language": "python",
     "metadata": {},
     "outputs": [],
     "prompt_number": 17
    }
   ],
   "metadata": {}
  }
 ]
}