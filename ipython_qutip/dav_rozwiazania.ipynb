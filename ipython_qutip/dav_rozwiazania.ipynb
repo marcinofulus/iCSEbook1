{
 "metadata": {
  "name": ""
 },
 "nbformat": 3,
 "nbformat_minor": 0,
 "worksheets": [
  {
   "cells": [
    {
     "cell_type": "markdown",
     "metadata": {},
     "source": [
      "Wskaz\u00f3wki do zada\u0144\n",
      "==================\n",
      "\n",
      "__Uwaga__ Nie korzystaj z poni\u017cszych wskaz\u00f3wek w sytuacjach innych ni\u017c kryzysowe. __Pracuj samodzielnie i ciesz si\u0119 sukcesem__  "
     ]
    },
    {
     "cell_type": "code",
     "collapsed": false,
     "input": [
      "from qutip import *\n",
      "from pylab import *\n",
      "%pylab inline"
     ],
     "language": "python",
     "metadata": {},
     "outputs": [
      {
       "output_type": "stream",
       "stream": "stdout",
       "text": [
        "Populating the interactive namespace from numpy and matplotlib\n"
       ]
      },
      {
       "output_type": "stream",
       "stream": "stderr",
       "text": [
        "WARNING: pylab import has clobbered these variables: ['power', 'info', 'linalg', 'draw_if_interactive', 'random', 'fft', 'load', 'save']\n",
        "`%pylab --no-import-all` prevents importing * from pylab and numpy\n"
       ]
      }
     ],
     "prompt_number": 3
    },
    {
     "cell_type": "markdown",
     "metadata": {},
     "source": [
      "__1 Qubit w otoczeniu termicznym__\n",
      "-------------------------------------\n",
      "\n",
      "Ad 1. Przeprowad\u017a obliczenia dla warunku pocz\u0105tkowego \n",
      "$|\\psi\\rangle=a|0\\rangle+b|1\\rangle$\n",
      "Pami\u0119taj o normalizacji!"
     ]
    },
    {
     "cell_type": "code",
     "collapsed": false,
     "input": [
      "up=basis(2,0)\n",
      "dn=basis(2,1)\n",
      "#\n",
      "a=1.0\n",
      "b=2.0\n",
      "vv=(a*up+b*dn).unit()"
     ],
     "language": "python",
     "metadata": {},
     "outputs": [],
     "prompt_number": 5
    },
    {
     "cell_type": "markdown",
     "metadata": {},
     "source": [
      "Wykre\u015bl uzyskane wyniki w analogiczny spos\u00f3b. Zwr\u00f3\u0107 szczeg\u00f3ln\u0105 uwag\u0119 na przypadki skrajne $a=0$ albo $b=0$. "
     ]
    },
    {
     "cell_type": "markdown",
     "metadata": {},
     "source": [
      "Ad 2. Przypadek $A=0$ jest bardzo szczeg\u00f3lny. Opisuje sytuacj\u0119, gdy qubit nie wymienia energii z otoczeniem. Zwr\u00f3\u0107 uwag\u0119, \u017ce w tym przypadku produkcja entropii jest najmniejsza. "
     ]
    },
    {
     "cell_type": "markdown",
     "metadata": {},
     "source": [
      "Ad 3. Stany Bella to wektory:\n",
      "\n",
      "$|B0\\rangle=\\frac{1}{\\sqrt{2}}(|00\\rangle+|11\\rangle)$\n",
      "\n",
      "$|B1\\rangle=\\frac{1}{\\sqrt{2}}(|00\\rangle-|11\\rangle)$\n",
      "\n",
      "$|B2\\rangle=\\frac{1}{\\sqrt{2}}(|01\\rangle+|10\\rangle)$\n",
      "\n",
      "$|B3\\rangle=\\frac{1}{\\sqrt{2}}(|01\\rangle-|10\\rangle)$\n",
      "\n",
      "Poni\u017cej zapisano dwa spo\u015br\u00f3d powy\u017cszych. Kt\u00f3re? "
     ]
    },
    {
     "cell_type": "code",
     "collapsed": false,
     "input": [
      "rpp=up*up.dag()\n",
      "rpm=up*dn.dag()\n",
      "rmp=rpm.trans()\n",
      "rmm=dn*dn.dag()\n",
      "#\n",
      "BB0=(tensor(rpp,rmm)+tensor(rpm,rmp)+tensor(rmp,rpm)+tensor(rmm,rpp))/2.0\n",
      "BB1=(tensor(rpp,rpp)+tensor(rpm,rpm)+tensor(rmp,rmp)+tensor(rmm,rmm))/2.0"
     ],
     "language": "python",
     "metadata": {},
     "outputs": [],
     "prompt_number": 23
    }
   ],
   "metadata": {}
  }
 ]
}