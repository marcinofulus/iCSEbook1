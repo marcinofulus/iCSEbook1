{
 "metadata": {
  "name": ""
 },
 "nbformat": 3,
 "nbformat_minor": 0,
 "worksheets": [
  {
   "cells": [
    {
     "cell_type": "markdown",
     "metadata": {},
     "source": [
      "__Teleportacja w obecno\u015bci dekohrencji__\n",
      "========================================"
     ]
    },
    {
     "cell_type": "markdown",
     "metadata": {
      "slideshow": {
       "slide_type": "-"
      }
     },
     "source": [
      " Cel i zakres:\n",
      "--------------------\n",
      "\n",
      "1. Przedstawienie protoko\u0142u teleportacji \n",
      " \n",
      "2. Numeryczna konstrukcja kana\u0142u teleportujacego\n",
      " \n",
      "3. Wierno\u015b\u0107 teleportacji\n",
      "\n",
      "4. Wizualizacja wynik\u00f3w\n",
      "\n",
      "5. Zadania\n",
      "\n",
      "Teleportacja to proces przesy\u0142ania stanu kwantowego pomi\u0119dzy dwoma osobami: Alicj\u0105 (A) i Bobem (B). \n",
      "W rozwa\u017canym tutaj najprostszym przypadku ograniczamy si\u0119 do teleportacji qubit\u00f3w.  \n",
      "\n",
      "Protok\u00f3\u0142 teleportacji ma nast\u0119puj\u0105cy przebieg:\n",
      "\n",
      "Alicja pragnie przes\u0142a\u0107 Bobowi qubit w stanie $\\rho_A$. Wykorzysta do tego celu wsp\u00f3\u0142dzielon\u0105 z Bobem \n",
      "par\u0119 qubit\u00f3w w stanie spl\u0105tanym $\\chi_{AB}$. Zakadamy, \u017ce 'po\u0142owa' tej pary jest w posiadaniu Alicji, za\u015b \n",
      "druga 'po\u0142owa' jest w r\u0119ku Boba. Alicja wykonuje pomiar Bella na parze qubit\u00f3w, kt\u00f3re s\u0105 w jej posiadaniu. \n",
      "W sk\u0142\u0105d tej pary wchodzi qubit w stanie $\\rho_A$ oraz 'po\u0142owa' pary $\\chi_{AB}$. Pomiar ten wp\u0142ywa na qubit, b\u0119d\u0105cy w posiadaniu Boba, kt\u00f3ry jest teraz w stanie $\\rho_B$. Pomiar Bella wykonany przez Alicj\u0119, to jeden z czterech mo\u017cliwych \n",
      "pomiar\u00f3w rzutowych na jeden z czterech maksymalnie spl\u0105tanych stan\u00f3w pary qubit\u00f3w. Oznacza to, \u017ce do odtworzenia przez Boba \n",
      "wyj\u015bciowego stanu $\\rho_A$ konieczna jest klasyczny kana\u0142 komunikacyjny \u0142\u0105cz\u0105cy Alicje i Boba, kt\u00f3ry pozwala na przes\u0142ania informacji o tym, kt\u00f3ry ze stan\u00f3w Bella u\u017cy\u0142a Alicja. Dopiero ta informacja pozwala Bobowi na wykonanie trasformacji \n",
      "$\\rho_B\\rightarrow \\rho_A$ i odtworzenie qubitu Alicji. \n",
      "\n",
      "Protok\u00f3\u0142 teleportacji mo\u017ce zosta\u0107 sformalizowany w postaci kana\u0142u kwantowego:\n",
      "\n",
      "$\\rho_B = \\Lambda(\\chi_{AB} ) \\rho_A$ \n",
      "\n",
      "gdzie  $\\rho_A$ to  macierz g\u0119stosci (stan)  qubitu Alicji, kt\u00f3ry ma by\u0107 przes\u0142any Bobowi.\n",
      "Zauwa\u017cmy, \u017ce w og\u00f3lnym przypadku stan $\\chi{_AB}$  mo\u017ce by\u0107 stanem mieszanym. W\u00f3wczas\n",
      "\n",
      "$\n",
      "\\Lambda(\\chi{_{AB}})\\rho = \\sum_{i=0}^3 \\mbox{Tr}[B^i \\chi{_{AB}}]\\sigma_i\\rho\\sigma_i, \n",
      "$\n",
      "\n",
      "gdzie $B^i$ s\u0105 stanami Bella:  \n",
      "\n",
      "$\n",
      "B^i = \\left(\\sigma_0\\otimes\\sigma_i\\right)B^0\\left(\\sigma_0\\otimes\\sigma_i\\right), i=1,2,3,\n",
      "$\n",
      "\n",
      "za\u015b\n",
      "\n",
      "$\n",
      "\\sigma_0 = {\\mathbb{I}},\\,\\, \\sigma_{1,2,3}=\\sigma_{x,y,z}\\nonumber \n",
      "$\n",
      "\n",
      "podczas gdy\n",
      "\n",
      "$\n",
      "B^0 = \\frac{1}{2}\\left( |01\\rangle+|10\\rangle\\right)\\left( \\langle 01|+\\langle 10|\\right).                \n",
      "$\n"
     ]
    },
    {
     "cell_type": "markdown",
     "metadata": {},
     "source": [
      "Naszym celem jest nuemryczna analiza procesu telportacji. W pierwszym kroku"
     ]
    },
    {
     "cell_type": "code",
     "collapsed": false,
     "input": [
      "from qutip import *\n",
      "from pylab import *\n",
      "%pylab inline"
     ],
     "language": "python",
     "metadata": {},
     "outputs": [
      {
       "output_type": "stream",
       "stream": "stdout",
       "text": [
        "Populating the interactive namespace from numpy and matplotlib\n"
       ]
      },
      {
       "output_type": "stream",
       "stream": "stderr",
       "text": [
        "WARNING: pylab import has clobbered these variables: ['power', 'linalg', 'draw_if_interactive', 'random', 'save', 'load', 'info', 'fft']\n",
        "`%pylab --no-import-all` prevents importing * from pylab and numpy\n"
       ]
      }
     ],
     "prompt_number": 1
    },
    {
     "cell_type": "markdown",
     "metadata": {},
     "source": [
      "Funkcja mno(,) zdefinowana poni\u017cej s\u0142u\u017cy uproszczeniu pracy"
     ]
    },
    {
     "cell_type": "code",
     "collapsed": false,
     "input": [
      "def mno(a,b):\n",
      "    return b*(a*b)"
     ],
     "language": "python",
     "metadata": {},
     "outputs": [],
     "prompt_number": 2
    },
    {
     "cell_type": "markdown",
     "metadata": {},
     "source": [
      "Podobnie jak skr\u00f3ty, kt\u00f3rych odt\u0105d u\u017cywamy:"
     ]
    },
    {
     "cell_type": "code",
     "collapsed": false,
     "input": [
      "up=basis(2,0)\n",
      "dn=basis(2,1)\n",
      "s0=qeye(2)\n",
      "sx=sigmax()\n",
      "sy=sigmay()\n",
      "sz=sigmaz()"
     ],
     "language": "python",
     "metadata": {},
     "outputs": [],
     "prompt_number": 3
    },
    {
     "cell_type": "markdown",
     "metadata": {},
     "source": [
      "Mo\u017cna zobaczy\u0107 wyniki dla jednego z wektor\u00f3w bazowych i macierzy Pauliego:"
     ]
    },
    {
     "cell_type": "code",
     "collapsed": false,
     "input": [
      "up"
     ],
     "language": "python",
     "metadata": {},
     "outputs": [
      {
       "latex": [
        "\\begin{equation}\\text{Quantum object: dims = [[2], [1]], shape = [2, 1], type = ket}\\\\[1em]\\begin{pmatrix}1.0\\\\0.0\\\\\\end{pmatrix}\\end{equation}"
       ],
       "metadata": {},
       "output_type": "pyout",
       "prompt_number": 4,
       "text": [
        "Quantum object: dims = [[2], [1]], shape = [2, 1], type = ket\n",
        "Qobj data =\n",
        "[[ 1.]\n",
        " [ 0.]]"
       ]
      }
     ],
     "prompt_number": 4
    },
    {
     "cell_type": "code",
     "collapsed": false,
     "input": [
      "sx"
     ],
     "language": "python",
     "metadata": {},
     "outputs": [
      {
       "latex": [
        "\\begin{equation}\\text{Quantum object: dims = [[2], [2]], shape = [2, 2], type = oper, isHerm = True}\\\\[1em]\\begin{pmatrix}0.0 & 1.0\\\\1.0 & 0.0\\\\\\end{pmatrix}\\end{equation}"
       ],
       "metadata": {},
       "output_type": "pyout",
       "prompt_number": 5,
       "text": [
        "Quantum object: dims = [[2], [2]], shape = [2, 2], type = oper, isherm = True\n",
        "Qobj data =\n",
        "[[ 0.  1.]\n",
        " [ 1.  0.]]"
       ]
      }
     ],
     "prompt_number": 5
    },
    {
     "cell_type": "markdown",
     "metadata": {},
     "source": [
      "Teraz konstruujemy baz\u0119 przestrzeni macierzy o wymiarze 2. W szczeg\u00f3lno\u015bci, dowolny\n",
      "stan qubitu wyra\u017ca si\u0119 poprzez kombinacj\u0119 liniow\u0105 powy\u017cszch macierzy o wsp\u00f3\u0142czynnikach gwarantuj\u0105cych nieujemn\u0105 okre\u015blono\u015b\u0107 \n",
      "macierzy i jej normalizacj\u0119. "
     ]
    },
    {
     "cell_type": "code",
     "collapsed": false,
     "input": [
      "rpp=up*up.dag()\n",
      "rpm=up*dn.dag()\n",
      "rmp=rpm.trans()\n",
      "rmm=dn*dn.dag()"
     ],
     "language": "python",
     "metadata": {},
     "outputs": [],
     "prompt_number": 6
    },
    {
     "cell_type": "markdown",
     "metadata": {},
     "source": [
      "Zapis macierzy \n",
      "\n",
      "$\\rho=\\sum_i a_i \\xi_i $ \n",
      "\n",
      "za pomoc\u0105 rozwini\u0119cia w bazie macierzowej $\\xi_i$ istotnie u\u0142atwia nasze zadanie, gdy\u017c\n",
      "dla dowolnego odwzorwania __liniowego__ \n",
      "\n",
      "$\\Lambda(\\rho)=\\sum_i^{N^2} a_i \\Lambda(\\xi_i)$, gdzie $N$ to wymiar przestrzeni stan\u00f3w (u nas $N=2$)\n",
      "\n",
      "czyli __wystarczy zna\u0107 dzia\u0142anie odwzorowania $\\Lambda$ na macierzach bazy__.\n",
      "\n",
      "__UWAGA__ macierze bazowe $\\xi_i$ nie musz\u0105 by\u0107 stanami. W szczeg\u00f3lno\u015bci \n",
      "\n",
      "rpp=$|1\\rangle\\langle 1|$ jest stanem, podczas gdy\n",
      "\n",
      "rpp=$|1\\rangle\\langle 0|$ nie jest.\n"
     ]
    },
    {
     "cell_type": "code",
     "collapsed": false,
     "input": [
      "rpp"
     ],
     "language": "python",
     "metadata": {},
     "outputs": [
      {
       "latex": [
        "\\begin{equation}\\text{Quantum object: dims = [[2], [2]], shape = [2, 2], type = oper, isHerm = True}\\\\[1em]\\begin{pmatrix}1.0 & 0.0\\\\0.0 & 0.0\\\\\\end{pmatrix}\\end{equation}"
       ],
       "metadata": {},
       "output_type": "pyout",
       "prompt_number": 7,
       "text": [
        "Quantum object: dims = [[2], [2]], shape = [2, 2], type = oper, isherm = True\n",
        "Qobj data =\n",
        "[[ 1.  0.]\n",
        " [ 0.  0.]]"
       ]
      }
     ],
     "prompt_number": 7
    },
    {
     "cell_type": "code",
     "collapsed": false,
     "input": [
      "rmp"
     ],
     "language": "python",
     "metadata": {},
     "outputs": [
      {
       "latex": [
        "\\begin{equation}\\text{Quantum object: dims = [[2], [2]], shape = [2, 2], type = oper, isHerm = True}\\\\[1em]\\begin{pmatrix}0.0 & 0.0\\\\1.0 & 0.0\\\\\\end{pmatrix}\\end{equation}"
       ],
       "metadata": {},
       "output_type": "pyout",
       "prompt_number": 8,
       "text": [
        "Quantum object: dims = [[2], [2]], shape = [2, 2], type = oper, isherm = True\n",
        "Qobj data =\n",
        "[[ 0.  0.]\n",
        " [ 1.  0.]]"
       ]
      }
     ],
     "prompt_number": 8
    },
    {
     "cell_type": "markdown",
     "metadata": {},
     "source": [
      "Post\u0119puj\u0105c zgodnie z opisanym scenariuszem okre\u015blmy dzia\u0142anie opisanego powy\u017aej protoko\u0142u teleportacji na macierzach bazowych. Rozpocznijmy od zdefiniowania bazy przestrzeni $H\\otimes H$ z\u0142o\u017conej z maksymalnie slp\u0105tanych stan\u00f3w Bella: "
     ]
    },
    {
     "cell_type": "code",
     "collapsed": false,
     "input": [
      "BB0=(tensor(rpp,rmm)+tensor(rpm,rmp)+tensor(rmp,rpm)+tensor(rmm,rpp))/2.0\n",
      "BB1=(tensor(rpp,mno(rmm,sx))+tensor(rpm,mno(rmp,sx))+tensor(rmp,mno(rpm,sx))+tensor(rmm,mno(rpp,sx)))/2.0\n",
      "BB2=(tensor(rpp,mno(rmm,sy))+tensor(rpm,mno(rmp,sy))+tensor(rmp,mno(rpm,sy))+tensor(rmm,mno(rpp,sy)))/2.0\n",
      "BB3=(tensor(rpp,mno(rmm,sz))+tensor(rpm,mno(rmp,sz))+tensor(rmp,mno(rpm,sz))+tensor(rmm,mno(rpp,sz)))/2.0"
     ],
     "language": "python",
     "metadata": {},
     "outputs": [],
     "prompt_number": 9
    },
    {
     "cell_type": "markdown",
     "metadata": {},
     "source": [
      "B\u0119d\u0105 nam one niezb\u0119dne, dla zapisanie protoko\u0142u teleportacji:"
     ]
    },
    {
     "cell_type": "code",
     "collapsed": false,
     "input": [
      "def telep(Q,R):\n",
      "    p0=(BB0*R).tr()\n",
      "    p1=(BB1*R).tr()\n",
      "    p2=(BB2*R).tr()\n",
      "    p3=(BB3*R).tr()\n",
      "    Out=p0*mno(Q,s0)+p1*mno(Q,sx)+p2*mno(Q,sy)+p3*mno(Q,sz)\n",
      "    return Out"
     ],
     "language": "python",
     "metadata": {},
     "outputs": [],
     "prompt_number": 10
    },
    {
     "cell_type": "markdown",
     "metadata": {},
     "source": [
      "W powy\u017cszej funkcji macierz Q jest obeiektem, kt\u00f3ry ma zosta\u0107 teleportowany. _Stan_ R jest stanem wsp\u00f3\u0142dzielonym przez Alicj\u0119 i Boba, innymi s\u0142owy R=$\\chi_{AB}$"
     ]
    },
    {
     "cell_type": "markdown",
     "metadata": {},
     "source": [
      "Zanim skonstruujemy kana\u0142 teleportacyjny okre\u015blmy posta\u0107 stanu $\\chi_{AB}$. \n",
      "\n",
      "Rozwa\u017cmy najprostszy mo\u017cliwy wyb\u00f3r: depolaryzowany stan Bella. __Kana\u0142 depolaryzacyjny__ definiuje si\u0119 nast\u0119pujco:\n",
      "\n",
      "$\\rho\\longrightarrow (1-p)+\\frac{p}{N}\\mathcal{I}$\n",
      "\n",
      "gdzie $p\\in[0,1]$, $N=dim H$ oraz $\\mathcal(I)$ to macierz jedno\u015bci. \n",
      "\n",
      "Depolaryzacja powoduje 'domieszanie' do stanu $\\rho$, \n",
      "z prawdopodobie\u0144stwem $p$ stanu maksymalnie mieszanego $\\frac{1}{N}\\mathcal{I}$. Czyli:\n"
     ]
    },
    {
     "cell_type": "code",
     "collapsed": false,
     "input": [
      "p=0.0\n",
      "R=(1.0-p)*BB0+p/4.0*tensor(qeye(2),qeye(2))"
     ],
     "language": "python",
     "metadata": {},
     "outputs": [],
     "prompt_number": 11
    },
    {
     "cell_type": "markdown",
     "metadata": {},
     "source": [
      "__Uwaga__ Zauwa\u017cmy, \u017ce ze wzgl\u0119du na struktur\u0119 iloczynu tensorowego przestrzeni dwu qubit\u00f3w, konieczne jest zastosownia iloczynu tensorowego $\\frac{1}{2}\\mathcal{I}\\otimes \\frac{1}{2}\\mathcal{I}$ zamiast po prostu $\\frac{p}{4}\\mathcal{I}$. \n",
      "Jest to wa\u017cna cecha sk\u0142adni pakietu QuTip.  "
     ]
    },
    {
     "cell_type": "markdown",
     "metadata": {},
     "source": [
      "Teraz nadszed\u0142 czas na okre\u015blenie __protoko\u0142u teleportacji__:"
     ]
    },
    {
     "cell_type": "code",
     "collapsed": false,
     "input": [
      "tpp=telep(rpp,R)\n",
      "tpm=telep(rpm,R)\n",
      "tmp=telep(rmp,R)\n",
      "tmm=telep(rmm,R)"
     ],
     "language": "python",
     "metadata": {},
     "outputs": [],
     "prompt_number": 12
    },
    {
     "cell_type": "markdown",
     "metadata": {},
     "source": [
      "Maj\u0105c okre\u015blone postaci teleportowanych macierzy bazowych mo\u017cna zastosowa\u0107 protok\u00f3\u0142 do dowolnego stanu. Rozpoczniemy \n",
      "od stanu czystego parametryzowanego k\u0105tami Blocha:\n",
      "\n",
      "$|\\Psi\\rangle=\\cos(\\theta/2)|1\\rangle+\\exp(-i\\phi)|0\\rangle$\n",
      "\n",
      "czyli na wej\u015bciu protoko\u0142u mamy In=$\\rho_A=|\\Psi\\rangle\\langle\\Psi|$ "
     ]
    },
    {
     "cell_type": "code",
     "collapsed": false,
     "input": [
      "theta=pi/2.0\n",
      "phi=0.0\n",
      "In=(cos(theta/2)**2)*rpp+1/2.0*sin(theta)*exp(1j*phi)*rpm+(sin(theta/2)**2)*rmm+1/2.0*sin(theta)*exp(-1j*phi)*rmp"
     ],
     "language": "python",
     "metadata": {},
     "outputs": [],
     "prompt_number": 13
    },
    {
     "cell_type": "markdown",
     "metadata": {},
     "source": [
      "Wyj\u015bcie protoko\u0142u, czyli stan Out=$\\rho_B$ otrzymujemy przez zast\u0105pienie macierzy bazowych poprzez ich 'teleportowane' odpowiedniki "
     ]
    },
    {
     "cell_type": "code",
     "collapsed": false,
     "input": [
      "Out=(cos(theta/2)**2)*tpp+1/2.0*sin(theta)*exp(1j*phi)*tpm+(sin(theta/2)**2)*tmm+1/2.0*sin(theta)*exp(-1j*phi)*tmp"
     ],
     "language": "python",
     "metadata": {},
     "outputs": [],
     "prompt_number": 14
    },
    {
     "cell_type": "markdown",
     "metadata": {},
     "source": [
      "Uzyskany wynik mo\u017cna przetestowa\u0107, dla przypadku gdy R=$B^i$, czyli gdy $\\chi_{AB}$ jest jesnym ze stan\u00f3w Bella w poni\u017cszy spos\u00f3b. Wynikiem mno\u017ce\u0144 macierzowych ma by\u0107 macierz zerowa. "
     ]
    },
    {
     "cell_type": "code",
     "collapsed": false,
     "input": [
      "Out-mno(In,s0) # R=B0\n",
      "#Out-mno(In,sx) # R=B1\n",
      "#Out-mno(In,sy) # R=B2\n",
      "#Out-mno(In,sz) # R=B3"
     ],
     "language": "python",
     "metadata": {},
     "outputs": [
      {
       "latex": [
        "\\begin{equation}\\text{Quantum object: dims = [[2], [2]], shape = [2, 2], type = oper, isHerm = True}\\\\[1em]\\begin{pmatrix}0.0 & 0.0\\\\0.0 & 0.0\\\\\\end{pmatrix}\\end{equation}"
       ],
       "metadata": {},
       "output_type": "pyout",
       "prompt_number": 15,
       "text": [
        "Quantum object: dims = [[2], [2]], shape = [2, 2], type = oper, isherm = True\n",
        "Qobj data =\n",
        "[[ 0.  0.]\n",
        " [ 0.  0.]]"
       ]
      }
     ],
     "prompt_number": 15
    },
    {
     "cell_type": "markdown",
     "metadata": {},
     "source": [
      "Miar\u0105 skuteczno\u015bci teleoprtacji jest __wierono\u015b\u0107__ (___fidelity___) defionowana nast\u0119puj\u0105co:\n",
      "\n",
      "$F=\\mbox{Tr}(\\rho_A\\rho_B)$\n",
      "\n",
      "przy za\u0142o\u017ceniu, \u017ce $\\rho_A\\rho_A=\\rho_A$, czyli, \u017ce qubit Alicji jest w stanie czystym. $F$ jest miar\u0105 'przekrywania si\u0119' stan\u00f3w wej\u015bciwego In oraz wyj\u015bciowego Out kana\u0142u kwantowego.   "
     ]
    },
    {
     "cell_type": "code",
     "collapsed": false,
     "input": [
      "F=(In*Out).tr()\n",
      "F"
     ],
     "language": "python",
     "metadata": {},
     "outputs": [
      {
       "metadata": {},
       "output_type": "pyout",
       "prompt_number": 16,
       "text": [
        "1.0"
       ]
      }
     ],
     "prompt_number": 16
    },
    {
     "cell_type": "markdown",
     "metadata": {},
     "source": [
      "Teraz wykre\u015blimy zale\u017cno\u015b\u0107 $F$ od $p$ dla ustalonych warto\u015bci $\\theta$ oraz $\\phi$:"
     ]
    },
    {
     "cell_type": "code",
     "collapsed": false,
     "input": [
      "plist=linspace(0.0,1.0,20.0)\n",
      "flist=zeros(len(plist))\n",
      "theta=pi/4.0\n",
      "phi=0.0"
     ],
     "language": "python",
     "metadata": {},
     "outputs": [],
     "prompt_number": 17
    },
    {
     "cell_type": "code",
     "collapsed": false,
     "input": [
      "for i1 in xrange(len(plist)):\n",
      "    p=plist[i1]\n",
      "    R=(1.0-p)*BB0+p/4.0*tensor(qeye(2),qeye(2))\n",
      "    tpp=telep(rpp,R)\n",
      "    tpm=telep(rpm,R)\n",
      "    tmp=telep(rmp,R)\n",
      "    tmm=telep(rmm,R)\n",
      "    In=(cos(theta/2)**2)*rpp+1/2.0*sin(theta)*exp(1j*phi)*rpm+(sin(theta/2)**2)*rmm+1/2.0*sin(theta)*exp(-1j*phi)*rmp\n",
      "    Out=(cos(theta/2)**2)*tpp+1/2.0*sin(theta)*exp(1j*phi)*tpm+(sin(theta/2)**2)*tmm+1/2.0*sin(theta)*exp(-1j*phi)*tmp\n",
      "    flist[i1]=(In*Out).tr()"
     ],
     "language": "python",
     "metadata": {},
     "outputs": [],
     "prompt_number": 18
    },
    {
     "cell_type": "code",
     "collapsed": false,
     "input": [
      "plot(plist,flist,'-.r',label='$\\theta=\\pi/4$', linewidth=4)\n",
      "xlabel('p',fontsize=20)\n",
      "ylabel('F',fontsize=20)\n",
      "show()"
     ],
     "language": "python",
     "metadata": {},
     "outputs": [
      {
       "metadata": {},
       "output_type": "display_data",
       "png": "[encoded data removed]",
       "text": [
        "<matplotlib.figure.Figure at 0x311b5d0>"
       ]
      }
     ],
     "prompt_number": 19
    },
    {
     "cell_type": "markdown",
     "metadata": {},
     "source": [
      "Zadania:\n",
      "----------\n",
      "\n",
      "1. Zapisa\u0107 protok\u00f3\u0142 teleportacji w przypadku, gdy $\\chi_{AB}=B^i, i=0,1,2,3$\n",
      "\n",
      "2. Wykre\u015bli\u0107  $F$ w przypadku, gdy Alicja i Bob wykorzystuj\u0105 w protokole zdepolaryzowany stan $B^1$\n",
      "\n",
      "3. Wykre\u015bli\u0107 entropi\u0119 von Neumanna $S(\\rho_B)$ w funkcji $p$\n"
     ]
    },
    {
     "cell_type": "code",
     "collapsed": false,
     "input": [],
     "language": "python",
     "metadata": {},
     "outputs": [],
     "prompt_number": 19
    }
   ],
   "metadata": {}
  }
 ]
}